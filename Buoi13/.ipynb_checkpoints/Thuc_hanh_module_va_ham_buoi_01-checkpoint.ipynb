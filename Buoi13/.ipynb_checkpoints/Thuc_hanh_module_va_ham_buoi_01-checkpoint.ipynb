{
 "cells": [
  {
   "cell_type": "markdown",
   "id": "a2a38651",
   "metadata": {},
   "source": [
    "## Bài 1:\n",
    "Viết hàm my_info() nhận vào 2 tham số `name` và `course`, sau đó in ra thông tin tương ứng. Ví dụ: \n",
    "```\n",
    "my_info('Tèo', 'Python')\n",
    "\n",
    "Output: \n",
    "My name is Tèo.\n",
    "I'm studying Python.\n",
    "```"
   ]
  },
  {
   "cell_type": "code",
   "execution_count": 2,
   "id": "392f869d",
   "metadata": {},
   "outputs": [
    {
     "name": "stdout",
     "output_type": "stream",
     "text": [
      "My name is Tèo\n",
      "I'm studying Python\n"
     ]
    }
   ],
   "source": [
    "def my_info(name, course):\n",
    "    # code below this line\n",
    "    print(f'My name is {name}')\n",
    "    print(f\"I'm studying {course}\")\n",
    "    # code above this line\n",
    "    \n",
    "my_info('Tèo', 'Python')"
   ]
  },
  {
   "cell_type": "code",
   "execution_count": 25,
   "id": "6e0d0e98-51ec-4812-8fcf-b253f5174b40",
   "metadata": {},
   "outputs": [
    {
     "name": "stdout",
     "output_type": "stream",
     "text": [
      "My name is Tèo.\n",
      "I'm studying Python.\n"
     ]
    }
   ],
   "source": [
    "#cách khác: không cần viết hai dòng print\n",
    "def my_info(name, course):\n",
    "    # code below this line\n",
    "    print(f'''My name is {name}.\n",
    "I'm studying {course}.''')\n",
    "    # code above this line\n",
    "    \n",
    "my_info('Tèo', 'Python')"
   ]
  },
  {
   "cell_type": "markdown",
   "id": "7390cb06",
   "metadata": {},
   "source": [
    "## Bài 2:\n",
    "Viết hàm sum_even() nhận vào một số `n` và in ra tổng các số chẵn từ 2 đến n.\n",
    "Ví dụ:\n",
    "```\n",
    "sum_even(10)\n",
    "\n",
    "Output:\n",
    "30\n",
    "```"
   ]
  },
  {
   "cell_type": "code",
   "execution_count": 13,
   "id": "df52dd4b",
   "metadata": {},
   "outputs": [
    {
     "data": {
      "text/plain": [
       "30"
      ]
     },
     "execution_count": 13,
     "metadata": {},
     "output_type": "execute_result"
    }
   ],
   "source": [
    "def sum_even(n):\n",
    "    # code below this line\n",
    "    tong=0\n",
    "    for i in range(2,n+1):\n",
    "        if i%2==0:\n",
    "            tong+= i\n",
    "    return tong\n",
    "    print(tong)\n",
    "    # code above this line\n",
    "\n",
    "sum_even(10)"
   ]
  },
  {
   "cell_type": "code",
   "execution_count": 26,
   "id": "cd2d7476-01e0-4d48-983a-6b66eddae8af",
   "metadata": {},
   "outputs": [
    {
     "data": {
      "text/plain": [
       "30"
      ]
     },
     "execution_count": 26,
     "metadata": {},
     "output_type": "execute_result"
    }
   ],
   "source": [
    "def sum_even(n):\n",
    "    # code below this line\n",
    "    tong=0\n",
    "    for i in range(2,n+1,2): #2 là step=số chẵn\n",
    "            tong+= i\n",
    "    return tong\n",
    "    print(tong) #hàm có giá trị trả về return thì phải có lệnh in ra\n",
    "    # code above this line\n",
    "\n",
    "sum_even(10) "
   ]
  },
  {
   "cell_type": "markdown",
   "id": "0f69e7f2",
   "metadata": {},
   "source": [
    "## Bài 3:\n",
    "Viết hàm easy_math() nhận vào 3 tham số `num1`, `op`, `num 2` để thực hiện phép tính tương ứng và in ra kết quả. \n",
    "Ví dụ:\n",
    "```\n",
    "easy_math(5, '+', 5)\n",
    "\n",
    "Output:\n",
    "10\n",
    "```\n"
   ]
  },
  {
   "cell_type": "code",
   "execution_count": 14,
   "id": "ce6058ca",
   "metadata": {},
   "outputs": [
    {
     "name": "stdout",
     "output_type": "stream",
     "text": [
      "10\n"
     ]
    }
   ],
   "source": [
    "def easy_math(num1, op, num2):\n",
    "    # code below this line\n",
    "    print(eval(f\"{num1}{op}{num2}\")) #hàm eval truyền thức dưới dạng tham số\n",
    "    # code above this line\n",
    "\n",
    "easy_math(5, '+', 5)"
   ]
  },
  {
   "cell_type": "markdown",
   "id": "3239a01d",
   "metadata": {},
   "source": [
    "## Bài 4:\n",
    "Viết hàm check_even() nhận vào tham số `number` và kiểm tra xem `number` có phải là số chẵn hay không.\n",
    "Ví dụ:\n",
    "```\n",
    "check_even(5)\n",
    "\n",
    "Output:\n",
    "5 là số lẻ\n",
    "```"
   ]
  },
  {
   "cell_type": "code",
   "execution_count": 21,
   "id": "f6a0918a",
   "metadata": {},
   "outputs": [
    {
     "name": "stdout",
     "output_type": "stream",
     "text": [
      "5 là số lẻ\n"
     ]
    }
   ],
   "source": [
    "def check_even(number):\n",
    "    # code below this line\n",
    "    if number%2==0:\n",
    "        print(f'{number} là số chẵn') \n",
    "    else: print(f'{number} là số lẻ')\n",
    "    # code above this line\n",
    "\n",
    "check_even(5)"
   ]
  },
  {
   "cell_type": "markdown",
   "id": "27a4bd3b",
   "metadata": {},
   "source": [
    "## Bài 5:\n",
    "Viết hàm transform_str() nhận vào tham số `string` và in ra `string` ở dạng uppercase và lowercase. Ví dụ:\n",
    "```\n",
    "transform_str('Function Is Magic!')\n",
    "\n",
    "Output:\n",
    "Lowercase: function is magic!\n",
    "Uppercase: FUNCTION IS MAGIC!\n",
    "```"
   ]
  },
  {
   "cell_type": "code",
   "execution_count": 23,
   "id": "ae2891a8",
   "metadata": {},
   "outputs": [
    {
     "name": "stdout",
     "output_type": "stream",
     "text": [
      "function is magic!\n",
      "FUNCTION IS MAGIC!\n"
     ]
    }
   ],
   "source": [
    "def transform_str(string):\n",
    "    # code below this line\n",
    "    print(str.lower(string))\n",
    "    print(str.upper(string))\n",
    "    # code above this line\n",
    "\n",
    "transform_str('Function Is Magic!')"
   ]
  },
  {
   "cell_type": "code",
   "execution_count": 24,
   "id": "67a1c26c-1006-4f2c-babb-a78034b3eefe",
   "metadata": {},
   "outputs": [
    {
     "name": "stdout",
     "output_type": "stream",
     "text": [
      "Lowercase: function is magic!\n",
      "Uppercase: FUNCTION IS MAGIC!\n"
     ]
    }
   ],
   "source": [
    "def transform_str(string):\n",
    "    print(f'''Lowercase: {string.lower()}\n",
    "Uppercase: {string.upper()}''')\n",
    "    # code above this line\n",
    "\n",
    "transform_str('Function Is Magic!')"
   ]
  },
  {
   "cell_type": "code",
   "execution_count": null,
   "id": "49d470af-3b7c-484a-ad87-5ac525444e84",
   "metadata": {},
   "outputs": [],
   "source": []
  },
  {
   "cell_type": "markdown",
   "id": "163331db",
   "metadata": {},
   "source": [
    "## Bài 6:\n",
    "Viết hàm calculate_factorial() nhận vào tham số `number` và in ra giai thừa của tham số đó. Ví dụ:\n",
    "```\n",
    "calculate_factorial(5)\n",
    "\n",
    "Output: 120\n",
    "```"
   ]
  },
  {
   "cell_type": "code",
   "execution_count": 30,
   "id": "0047ec9d",
   "metadata": {},
   "outputs": [
    {
     "name": "stdout",
     "output_type": "stream",
     "text": [
      "120\n",
      "1\n",
      "1\n",
      "1\n"
     ]
    }
   ],
   "source": [
    "def calculate_factorial(number):\n",
    "    giaiThua = 1\n",
    "    if number == 0 or number == 1:\n",
    "        #if number in [0,1]:\n",
    "        return 1\n",
    "    fact = 1\n",
    "    for i in range(1,number+1):\n",
    "            fact *= i #hoặc có thể viết i*=1\n",
    "    return fact\n",
    "\n",
    "print(calculate_factorial(5))\n",
    "print(calculate_factorial(0))\n",
    "print(calculate_factorial(1))\n",
    "print(calculate_factorial(-5))"
   ]
  },
  {
   "cell_type": "code",
   "execution_count": 27,
   "id": "c3099785-742e-46b7-ae6f-af2aa34ec291",
   "metadata": {},
   "outputs": [
    {
     "name": "stdout",
     "output_type": "stream",
     "text": [
      "120\n"
     ]
    }
   ],
   "source": [
    "def calculate_factorial(number):\n",
    "    if number < 0:\n",
    "        return \"Không thể tính giai thừa cho số âm\"\n",
    "    elif number == 0 or number == 1:\n",
    "        return 1\n",
    "    else:\n",
    "        factorial = 1\n",
    "        for i in range(2, number + 1):\n",
    "            factorial *= i\n",
    "        return factorial\n",
    "\n",
    "\n",
    "result = calculate_factorial(5)\n",
    "print(result)"
   ]
  },
  {
   "cell_type": "code",
   "execution_count": 28,
   "id": "3eef1934-a2ef-4fd4-9833-2b77223e7401",
   "metadata": {},
   "outputs": [
    {
     "name": "stdout",
     "output_type": "stream",
     "text": [
      "120\n"
     ]
    }
   ],
   "source": [
    "def calculate_factorial(number):\n",
    "    # code below this line\n",
    "    giaiThua = 1\n",
    "    if number == 0 or number == 1:\n",
    "        print(giaiThua)\n",
    "    else:\n",
    "        for i in range(2, number+1):\n",
    "            giaiThua = giaiThua * i\n",
    "        print(giaiThua)\n",
    "    # code above this line\n",
    "\n",
    "calculate_factorial(5)"
   ]
  },
  {
   "cell_type": "markdown",
   "id": "6d381154",
   "metadata": {},
   "source": [
    "## Bài 7:\n",
    "Dãy Fibonacci là dãy vô hạn các số tự nhiên bắt đầu bằng 1 và 1, sau đó các số tiếp theo sẽ bằng tổng của 2 số liền trước nó. \n",
    "\n",
    "Cụ thể, các số đầu tiên của dãy Fibonacci là 1, 1, 2, 3, 5, 8, 13, 21, 34, 55, 89, 144, 233, 377, 610... \n",
    "\n",
    "Nhiệm vụ: Viết chương trình find_fibo() nhận vào tham số `index` và in ra số Fibonacci ở vị trí `index`. Nếu `index` bằng 0 thì in ra 0. Ví dụ:\n",
    "\n",
    "```\n",
    "find_fibo(1)\n",
    "\n",
    "Output:\n",
    "1\n",
    "```\n",
    "-------------------\n",
    "```\n",
    "find_fibo(6)\n",
    "\n",
    "Output:\n",
    "8\n",
    "```\n",
    "-------------------\n",
    "```\n",
    "find_fibo(0)\n",
    "\n",
    "Output:\n",
    "0\n",
    "```"
   ]
  },
  {
   "cell_type": "code",
   "execution_count": 10,
   "id": "0b8b2dc3",
   "metadata": {},
   "outputs": [
    {
     "name": "stdout",
     "output_type": "stream",
     "text": [
      "610\n"
     ]
    }
   ],
   "source": [
    "def find_fibo(index):\n",
    "    # code below this line\n",
    "    if index == 0 or index == 1:\n",
    "        print(index)\n",
    "    else:\n",
    "        f1 = 0 #gán hai số đầu\n",
    "        f2 = 1\n",
    "        for i in range(2, index + 1):\n",
    "            f3 = f1 + f2 #cái mới bằng tổng hai cái trước đó\n",
    "            f1 = f2 #vòng lặp kế tiếp f1 mới = f2\n",
    "            f2 = f3\n",
    "        print(f3)\n",
    "    # code above this line\n",
    "\n",
    "find_fibo(15)\n",
    "'''bài có đệ qui, nếu có đệ qui thì chia nhỏ từng thành phần ra'''"
   ]
  },
  {
   "cell_type": "markdown",
   "id": "65db4551",
   "metadata": {},
   "source": [
    "## Bài 8:\n",
    "Viết hàm find_divisors() nhận vào một số nguyên dương `number` và in ra tất cả các ước của `number`. Ví dụ:\n",
    "```\n",
    "find_divisors(24)\n",
    "\n",
    "Output:\n",
    "Ước của 24 là: 1, 2, 3, 4, 6, 8, 12, 24\n",
    "```"
   ]
  },
  {
   "cell_type": "code",
   "execution_count": 6,
   "id": "d9b20c10",
   "metadata": {},
   "outputs": [
    {
     "name": "stdout",
     "output_type": "stream",
     "text": [
      "1, 2, 3, 4, 6, 8, 12, 24\n"
     ]
    }
   ],
   "source": [
    "def find_divisors(number):\n",
    "    # code below this line\n",
    "    for i in range(1, number):\n",
    "        if number % i == 0:\n",
    "            print(i, end=\", \")\n",
    "    print(number)\n",
    "    # code above this line\n",
    "\n",
    "find_divisors(24)"
   ]
  },
  {
   "cell_type": "markdown",
   "id": "37000ab2",
   "metadata": {},
   "source": [
    "## Bài 9:\n",
    "Viết hàm solve_equation() để giải phương trình bậc nhất ax + b = 0 với `a` và `b` là 2 tham số đầu vào. Ví dụ:\n",
    "```\n",
    "solve_equation(2, -4)\n",
    "\n",
    "Output: \n",
    "x = 2\n",
    "```\n",
    "---\n",
    "```\n",
    "solve_equation(0, 0)\n",
    "\n",
    "Output: \n",
    "Phương trình vô số nghiệm\n",
    "```\n",
    "---\n",
    "```\n",
    "solve_equation(0, -4)\n",
    "\n",
    "Output: \n",
    "Phương trình vô nghiệm\n",
    "```"
   ]
  },
  {
   "cell_type": "code",
   "execution_count": null,
   "id": "abfc5589",
   "metadata": {},
   "outputs": [],
   "source": [
    "def solve_equation(...parameter here...):\n",
    "    # code below this line\n",
    "    pass\n",
    "    # code above this line\n",
    "\n",
    "solve_equation(2, -4)"
   ]
  },
  {
   "cell_type": "markdown",
   "id": "a483ed69",
   "metadata": {},
   "source": [
    "## Bài 10:\n",
    "Viết hàm find_distance() nhận vào 4 tham số `x1`, `y1`, `x2`, `y2` là tọa độ của 2 điểm trên trục tọa độ và in ra khoảng cách của 2 điểm đó theo công thức:\n",
    "```\n",
    "distance = sqrt((x1-x2)^2 + (y1-y2)^2)\n",
    "```\n",
    "Tham khảo: https://toanthaydinh.com/cong-thuc-tinh-khoang-cach-giua-2-diem/\n",
    "Khoảng cách được làm tròn 2 chữ số thập phân.\n",
    "\n",
    "Ví dụ:\n",
    "```\n",
    "find_distance(5, 2, 1, 3)\n",
    "\n",
    "Output:\n",
    "4.12\n",
    "```"
   ]
  },
  {
   "cell_type": "code",
   "execution_count": null,
   "id": "2dcf614e",
   "metadata": {},
   "outputs": [],
   "source": [
    "def find_distance(...parameter here...):\n",
    "    # code below this line\n",
    "    pass\n",
    "    # code above this line\n",
    "\n",
    "find_distance(5, 2, 1, 3)"
   ]
  },
  {
   "cell_type": "markdown",
   "id": "6236743e",
   "metadata": {},
   "source": [
    "## Bài 11(bonus):\n",
    "Viết hàm test_password() nhận vào một chuỗi(xem như là mật khẩu của người dùng).\n",
    "Sau đó kiểm tra xem đây có phải là mật khẩu mạnh hay không theo quy tắc sau:\n",
    "- Mật khẩu mạnh là mật khẩu phải có ít nhất 1 chữ hoa, 1 chữ thường, 1 số và 1 ký tự đặc biệt"
   ]
  },
  {
   "cell_type": "code",
   "execution_count": null,
   "id": "b24922e7",
   "metadata": {},
   "outputs": [],
   "source": [
    "def test_password(...parameter here...):\n",
    "    # code below this line\n",
    "    pass\n",
    "    # code above this line\n",
    "\n",
    "test_password(\"aW12R@_bc\")"
   ]
  },
  {
   "cell_type": "markdown",
   "id": "8062db24-16cc-452f-a9e5-0971dd020b84",
   "metadata": {},
   "source": [
    "## Bài 12: Chuyển đổi nhiệt độ\n",
    "Tham số đầu vào: độ F (hoặc độ C) Kết quả: độ C (hoặc độ F), lấy 2 số thập phân\r\n",
    "\r\n",
    "độ_F = độ_C * (9 / 5) + 32\r\n",
    "\r\n",
    "độ_C = (độ_F - 32) * (5 / 9)"
   ]
  },
  {
   "cell_type": "code",
   "execution_count": null,
   "id": "a145d32d-1ca9-4772-a739-2ea64aa06997",
   "metadata": {},
   "outputs": [],
   "source": []
  },
  {
   "cell_type": "markdown",
   "id": "bd1b8050-f752-4f46-967f-531eec86884d",
   "metadata": {},
   "source": [
    "## Bài 13: Hàm tính số tiền lãi cần tính khi gửi tiết kiệm\n",
    "Yêu cầu:\n",
    "* Input: Số tiền gửi, số năm gửi, lãi suất\n",
    "* Ouput: In ra số tiền lãi từng năm, số tiền tích lũy từng năm.\n",
    "Trong đó:\n",
    "* Tiền lãi = Tiền tích lũy * lãi suất\n",
    "  \n",
    "VD: Gửi 10 triệu, 3 năm, lãi suất 5%/năm\n",
    "\n",
    "Năm 1: Lãi: 10tr x 5% = 500,000 đ, tiền tích lũy = 10tr + 500k = 10,500,000 đ\n",
    "\n",
    "Năm 2: Lãi: 10,5tr x 5% = 525,000 đ, tiền tích lũy = 10,5tr + 525k = 11,025,000 đ\n",
    "\n",
    "Năm 3: Lãi: 11,025tr x 5% = 551,250 đ, tiền tích lũy = 11,025tr + 551,250 đ = 11,576,250 đ"
   ]
  },
  {
   "cell_type": "code",
   "execution_count": null,
   "id": "33152b02-3b54-4cb5-9d84-31d55bf0abb4",
   "metadata": {},
   "outputs": [],
   "source": []
  }
 ],
 "metadata": {
  "kernelspec": {
   "display_name": "Python 3 (ipykernel)",
   "language": "python",
   "name": "python3"
  },
  "language_info": {
   "codemirror_mode": {
    "name": "ipython",
    "version": 3
   },
   "file_extension": ".py",
   "mimetype": "text/x-python",
   "name": "python",
   "nbconvert_exporter": "python",
   "pygments_lexer": "ipython3",
   "version": "3.11.5"
  }
 },
 "nbformat": 4,
 "nbformat_minor": 5
}
