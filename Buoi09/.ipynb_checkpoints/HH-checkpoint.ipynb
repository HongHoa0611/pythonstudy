{
 "cells": [
  {
   "cell_type": "code",
   "execution_count": 2,
   "id": "7545a6d2-30de-4bce-9adf-5861f84911e1",
   "metadata": {},
   "outputs": [
    {
     "name": "stdout",
     "output_type": "stream",
     "text": [
      "10\n",
      "15\n",
      "20\n",
      "25\n",
      "30\n",
      "35\n",
      "40\n",
      "45\n",
      "50\n",
      "55\n",
      "60\n",
      "65\n",
      "70\n",
      "75\n",
      "80\n",
      "85\n",
      "90\n",
      "95\n",
      "100\n",
      "END\n"
     ]
    }
   ],
   "source": [
    "#in ra đọc: 5,10,15...100\n",
    "my_value = 5\n",
    "while my_value <100: #đây là số vòng lặp\n",
    "    my_value = my_value + 5 #ghi ngắn gọn my_value+=5\n",
    "    print (my_value)\n",
    "else:\n",
    "    print('END')"
   ]
  },
  {
   "cell_type": "code",
   "execution_count": null,
   "id": "7b11002b-2d4a-42f1-8f94-607d32b05f3d",
   "metadata": {},
   "outputs": [],
   "source": [
    "#nhập vào một chuỗi rồi in ra trang web nếu người dùng nhập vào kí tự \"q\" hoặc ký tự rỗng để thoát vòng lặp (dùng lệnh break)\n",
    "\n",
    "chuoi = input(\"nhập chuỗi:\")\n",
    "while chuoi.lower()!= \"q\" or chuoi!=\" \":\n",
    "    print (chuoi)\n",
    "    chuoi = input(\"nhập chuỗi:\")\n",
    "else:\n",
    "    print (\"kết thúc chuỗi\")"
   ]
  },
  {
   "cell_type": "code",
   "execution_count": null,
   "id": "745cac11-727f-4d9b-8ef1-19e0487eb049",
   "metadata": {},
   "outputs": [],
   "source": [
    "while True: \n",
    "    chuoi = input(\"nhập chuỗi:\")\n",
    "    if chuoi.lower() == \"q\" or chuoi == \" \":\n",
    "        print(\"kết thúc chuỗi\")\n",
    "        break\n",
    "    print (chuoi)"
   ]
  },
  {
   "cell_type": "code",
   "execution_count": null,
   "id": "1801eecd-0044-41f6-bb52-b82f05d8f9d8",
   "metadata": {},
   "outputs": [],
   "source": []
  }
 ],
 "metadata": {
  "kernelspec": {
   "display_name": "Python 3 (ipykernel)",
   "language": "python",
   "name": "python3"
  },
  "language_info": {
   "codemirror_mode": {
    "name": "ipython",
    "version": 3
   },
   "file_extension": ".py",
   "mimetype": "text/x-python",
   "name": "python",
   "nbconvert_exporter": "python",
   "pygments_lexer": "ipython3",
   "version": "3.11.5"
  }
 },
 "nbformat": 4,
 "nbformat_minor": 5
}
