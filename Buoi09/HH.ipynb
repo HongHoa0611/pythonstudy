{
 "cells": [
  {
   "cell_type": "code",
   "execution_count": null,
   "id": "7545a6d2-30de-4bce-9adf-5861f84911e1",
   "metadata": {},
   "outputs": [],
   "source": [
    "#in ra đọc: 5,10,15...100\n",
    "my_value = 5\n",
    "while my_value <100: #đây là số vòng lặp\n",
    "    my_value = my_value + 5 #ghi ngắn gọn my_value+=5\n",
    "    print (my_value)\n",
    "else:\n",
    "    print('END')"
   ]
  },
  {
   "cell_type": "code",
   "execution_count": null,
   "id": "745cac11-727f-4d9b-8ef1-19e0487eb049",
   "metadata": {},
   "outputs": [],
   "source": [
    "while True: \n",
    "    chuoi = input(\"nhập chuỗi:\")\n",
    "    if chuoi.lower() == \"q\" or chuoi == \" \":\n",
    "        print(\"kết thúc chuỗi\")\n",
    "        break\n",
    "    print (chuoi)"
   ]
  },
  {
   "cell_type": "code",
   "execution_count": 1,
   "id": "1801eecd-0044-41f6-bb52-b82f05d8f9d8",
   "metadata": {},
   "outputs": [
    {
     "name": "stdout",
     "output_type": "stream",
     "text": [
      "Búa -kéo -bao\n"
     ]
    },
    {
     "name": "stdin",
     "output_type": "stream",
     "text": [
      "mời chọn(1- búa, 2- kéo, 3- bao):  3\n"
     ]
    },
    {
     "name": "stdout",
     "output_type": "stream",
     "text": [
      "computer: 2\n"
     ]
    }
   ],
   "source": [
    "from random import randint\n",
    "print('Búa -kéo -bao')\n",
    "me = int(input('mời chọn(1- búa, 2- kéo, 3- bao): '))\n",
    "com = randint(1,4)\n",
    "print(f\"computer: {com}\")\n",
    "\n",
    "if me == com:\n",
    "    print('Hòa')\n",
    "else:\n",
    "    if me == 1: #búa\n",
    "        print(\"me win\" if com ==2 else \"com win\")\n",
    "    if me == 2: #kéo\n",
    "        print(\"me win\" if com ==3 else \"com win\")\n",
    "    if me == 1: #bao\n",
    "        print(\"me win\" if com ==1 else \"com win\")"
   ]
  },
  {
   "cell_type": "code",
   "execution_count": null,
   "id": "1ad58cb7-5a15-4ee7-a498-8866107a59b4",
   "metadata": {},
   "outputs": [],
   "source": []
  }
 ],
 "metadata": {
  "kernelspec": {
   "display_name": "Python 3 (ipykernel)",
   "language": "python",
   "name": "python3"
  },
  "language_info": {
   "codemirror_mode": {
    "name": "ipython",
    "version": 3
   },
   "file_extension": ".py",
   "mimetype": "text/x-python",
   "name": "python",
   "nbconvert_exporter": "python",
   "pygments_lexer": "ipython3",
   "version": "3.11.5"
  }
 },
 "nbformat": 4,
 "nbformat_minor": 5
}
