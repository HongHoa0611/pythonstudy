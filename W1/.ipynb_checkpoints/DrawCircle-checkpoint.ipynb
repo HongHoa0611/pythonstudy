{
 "cells": [
  {
   "cell_type": "code",
   "execution_count": null,
   "id": "5285116a-50af-4285-a239-28f41177b14b",
   "metadata": {},
   "outputs": [],
   "source": [
    "from turtle import*\n",
    "t=Turtle()\n",
    "t.pensize (5)\n",
    "t.pencolor(\"red\")\n",
    "t.fillcolor(\"blue\")\n",
    "t.begin_fill()\n",
    "t.circle(100)\n",
    "t.end_fill()\n",
    "done()"
   ]
  },
  {
   "cell_type": "code",
   "execution_count": null,
   "id": "40f2fb70-6fef-4711-800f-d81da68d2271",
   "metadata": {},
   "outputs": [],
   "source": []
  }
 ],
 "metadata": {
  "kernelspec": {
   "display_name": "Python 3 (ipykernel)",
   "language": "python",
   "name": "python3"
  },
  "language_info": {
   "codemirror_mode": {
    "name": "ipython",
    "version": 3
   },
   "file_extension": ".py",
   "mimetype": "text/x-python",
   "name": "python",
   "nbconvert_exporter": "python",
   "pygments_lexer": "ipython3",
   "version": "3.11.5"
  }
 },
 "nbformat": 4,
 "nbformat_minor": 5
}
