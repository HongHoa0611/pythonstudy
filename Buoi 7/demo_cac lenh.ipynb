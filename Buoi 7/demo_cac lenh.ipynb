{
 "cells": [
  {
   "cell_type": "code",
   "execution_count": 2,
   "id": "5685de4c-dc8c-45da-aef3-c1d600644cad",
   "metadata": {},
   "outputs": [
    {
     "name": "stdout",
     "output_type": "stream",
     "text": [
      "True\n"
     ]
    }
   ],
   "source": [
    "#5==5\n",
    "a=7 #gán\n",
    "a==9 #2 dấu= viết sát nhau thì là so sánh bằng\n",
    "print (a==7)"
   ]
  },
  {
   "cell_type": "code",
   "execution_count": 8,
   "id": "d459c064-6a14-499b-a48d-f3c24d72e975",
   "metadata": {},
   "outputs": [
    {
     "name": "stdout",
     "output_type": "stream",
     "text": [
      "99 is odd.\n"
     ]
    }
   ],
   "source": [
    "number=99\n",
    "if (number%2 ==0):\n",
    "   print (str(number)+ \"is even.\", sep='')\n",
    "else:\n",
    "   print(f\"{number} is odd.\")"
   ]
  },
  {
   "cell_type": "code",
   "execution_count": 23,
   "id": "29edad91-b29e-4b80-b741-14c9664f73f7",
   "metadata": {},
   "outputs": [
    {
     "name": "stdin",
     "output_type": "stream",
     "text": [
      "điểm_của_bạn= 6.7\n"
     ]
    },
    {
     "name": "stdout",
     "output_type": "stream",
     "text": [
      "bạn xếp loại C\n"
     ]
    }
   ],
   "source": [
    "A= float(input(\"điểm_của_bạn=\"))\n",
    "if(A<0 or A>10):\n",
    "  print(\"giá trị không đúng\")\n",
    "elif(A>=8.5):\n",
    "   print(\"bạn xếp loại A\")\n",
    "elif(7.8<=A and A<8.5):\n",
    "    print(\"bạn xếp loại B+\")\n",
    "elif(7<=A and A<7.8):\n",
    "    print(\"bạn xếp loại B\")\n",
    "elif(5<=A and A<7):\n",
    "    print(\"bạn xếp loại C\")\n",
    "else:\n",
    "    print(\"bạn xếp loại D\")"
   ]
  },
  {
   "cell_type": "code",
   "execution_count": 26,
   "id": "5c102037-bfdd-49a0-87eb-95123aec0062",
   "metadata": {},
   "outputs": [
    {
     "name": "stdout",
     "output_type": "stream",
     "text": [
      "số chằn\n"
     ]
    }
   ],
   "source": [
    "num=125896\n",
    "chuoi=\"số chằn\" if num%2==0 else \"số lẻ\"\n",
    "print(chuoi)"
   ]
  },
  {
   "cell_type": "code",
   "execution_count": null,
   "id": "be000332-a2f8-4f5a-9417-9fb63ed9adf5",
   "metadata": {},
   "outputs": [],
   "source": []
  }
 ],
 "metadata": {
  "kernelspec": {
   "display_name": "Python 3 (ipykernel)",
   "language": "python",
   "name": "python3"
  },
  "language_info": {
   "codemirror_mode": {
    "name": "ipython",
    "version": 3
   },
   "file_extension": ".py",
   "mimetype": "text/x-python",
   "name": "python",
   "nbconvert_exporter": "python",
   "pygments_lexer": "ipython3",
   "version": "3.11.5"
  }
 },
 "nbformat": 4,
 "nbformat_minor": 5
}
