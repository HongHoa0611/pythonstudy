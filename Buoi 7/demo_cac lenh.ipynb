{
 "cells": [
  {
   "cell_type": "code",
   "execution_count": 2,
   "id": "5685de4c-dc8c-45da-aef3-c1d600644cad",
   "metadata": {},
   "outputs": [
    {
     "name": "stdout",
     "output_type": "stream",
     "text": [
      "True\n"
     ]
    }
   ],
   "source": [
    "#5==5\n",
    "a=7 #gán\n",
    "a==9 #2 dấu= viết sát nhau thì là so sánh bằng\n",
    "print (a==7)"
   ]
  },
  {
   "cell_type": "code",
   "execution_count": 8,
   "id": "d459c064-6a14-499b-a48d-f3c24d72e975",
   "metadata": {},
   "outputs": [
    {
     "name": "stdout",
     "output_type": "stream",
     "text": [
      "99 is odd.\n"
     ]
    }
   ],
   "source": [
    "number=99\n",
    "if (number%2 ==0):\n",
    "   print (str(number)+ \"is even.\", sep='')\n",
    "else:\n",
    "   print(f\"{number} is odd.\")"
   ]
  },
  {
   "cell_type": "code",
   "execution_count": 23,
   "id": "29edad91-b29e-4b80-b741-14c9664f73f7",
   "metadata": {},
   "outputs": [
    {
     "name": "stdin",
     "output_type": "stream",
     "text": [
      "điểm_của_bạn= 6.7\n"
     ]
    },
    {
     "name": "stdout",
     "output_type": "stream",
     "text": [
      "bạn xếp loại C\n"
     ]
    }
   ],
   "source": [
    "A= float(input(\"điểm_của_bạn=\"))\n",
    "if(A<0 or A>10):\n",
    "  print(\"giá trị không đúng\")\n",
    "elif(A>=8.5):\n",
    "   print(\"bạn xếp loại A\")\n",
    "elif(7.8<=A and A<8.5):\n",
    "    print(\"bạn xếp loại B+\")\n",
    "elif(7<=A and A<7.8):\n",
    "    print(\"bạn xếp loại B\")\n",
    "elif(5<=A and A<7):\n",
    "    print(\"bạn xếp loại C\")\n",
    "else:\n",
    "    print(\"bạn xếp loại D\")"
   ]
  },
  {
   "cell_type": "code",
   "execution_count": 26,
   "id": "5c102037-bfdd-49a0-87eb-95123aec0062",
   "metadata": {},
   "outputs": [
    {
     "name": "stdout",
     "output_type": "stream",
     "text": [
      "số chằn\n"
     ]
    }
   ],
   "source": [
    "num=125896\n",
    "chuoi=\"số chẵn\" if num%2==0 else \"số lẻ\"\n",
    "print(chuoi)"
   ]
  },
  {
   "cell_type": "code",
   "execution_count": 16,
   "id": "be000332-a2f8-4f5a-9417-9fb63ed9adf5",
   "metadata": {},
   "outputs": [
    {
     "name": "stdin",
     "output_type": "stream",
     "text": [
      "nhập cân nặng kg 50\n",
      "nhập chiều cao (cm) 157\n"
     ]
    },
    {
     "name": "stdout",
     "output_type": "stream",
     "text": [
      "BMI của bạn 20.28479857195018 bình thường\n"
     ]
    }
   ],
   "source": [
    "#tính chỉ số cân nặng\n",
    "weight = float(input(\"nhập cân nặng kg\"))\n",
    "height = float(input(\"nhập chiều cao (cm)\"))/100\n",
    "BMI=weight/(height**2)\n",
    "if(BMI<16):\n",
    "    print(f\"BMI của bạn {BMI} Gầy cấp độ III\")\n",
    "elif(BMI>=16 and BMI<17): #python có thể viết 16 <= BMI <17 #default có thể viết BMI<17\n",
    "    print(f\"BMI của bạn {BMI} Gầy cấp độ II\")\n",
    "elif(BMI>=17 and BMI<18.5):\n",
    "    print(f\"BMI của bạn {BMI} Gầy cấp độ I\")\n",
    "elif(BMI>=18.5 and BMI<25):\n",
    "    print(f\"BMI của bạn {BMI} bình thường\")\n",
    "elif(BMI>=25 and BMI<30):\n",
    "    print(f\"BMI của bạn {BMI} thừa cân\")\n",
    "elif(BMI>=30 and BMI<35):\n",
    "    print(f\"BMI của bạn {BMI} Béo phì cấp độ I\")\n",
    "elif(BMI>=35 and BMI<40):\n",
    "    print(f\"BMI của bạn {BMI} Béo phì cấp độ II\")\n",
    "else:\n",
    "    print(f\"BMI của bạn {BMI} Béo phì cấp độ III\")\n",
    "#có thể nhập thêm lệnh try catch để loại trừ nhập sai"
   ]
  },
  {
   "cell_type": "code",
   "execution_count": 21,
   "id": "2b97b594-7969-4714-9208-4a81014bf6dd",
   "metadata": {},
   "outputs": [
    {
     "name": "stdin",
     "output_type": "stream",
     "text": [
      "nhập số tiền thanh toán ($): 52\n"
     ]
    },
    {
     "name": "stdout",
     "output_type": "stream",
     "text": [
      "tổng số tiền thanh toán là 52.0 $\n"
     ]
    }
   ],
   "source": [
    "#bài tập hiển thị thông tin đơn hàng\n",
    "paid = float(input(\"nhập số tiền thanh toán ($):\"))\n",
    "discount=0\n",
    "#xác định số tiền giảm giá\n",
    "if paid>75:\n",
    "    discount = 15\n",
    "elif paid>100:\n",
    "    discount = 25\n",
    "elif paid>150:\n",
    "    discount = 50\n",
    "    \n",
    "paid_after_discount= paid - discount\n",
    "print (f\"tổng số tiền thanh toán là {paid_after_discount} $\")"
   ]
  },
  {
   "cell_type": "code",
   "execution_count": 22,
   "id": "0a0db780-3cfb-4a10-85ba-f23891f15a2d",
   "metadata": {},
   "outputs": [
    {
     "name": "stdin",
     "output_type": "stream",
     "text": [
      "nhập một số bất kì từ 1 đến 7: 5\n"
     ]
    },
    {
     "name": "stdout",
     "output_type": "stream",
     "text": [
      "Friday\n"
     ]
    }
   ],
   "source": [
    "#bài tập các thứ trong tuần\n",
    "day = int(input(\"nhập một số bất kì từ 1 đến 7:\"))\n",
    "if day<1 or day>7:\n",
    "    print('Invalid')\n",
    "else:\n",
    "    if day == 1: print('Monday')\n",
    "    if day == 2: print('Tuesday')\n",
    "    if day == 3: print('Wednesday')\n",
    "    if day == 4: print('Thusday')\n",
    "    if day == 5: print('Friday')\n",
    "    if day == 6: print('Satuday')\n",
    "    if day == 7: print('Sunday')"
   ]
  },
  {
   "cell_type": "code",
   "execution_count": 24,
   "id": "32bdbdd5-42fe-41fd-ada6-b0a808dccb97",
   "metadata": {},
   "outputs": [
    {
     "name": "stdin",
     "output_type": "stream",
     "text": [
      "số thứ nhất: 56\n",
      "số thứ hai: 59\n",
      "số thứ ba: 55\n"
     ]
    },
    {
     "name": "stdout",
     "output_type": "stream",
     "text": [
      "59 56 55\n"
     ]
    }
   ],
   "source": [
    "#Viết chương trình nhập vào 3 số nguyên và in ra màn hình theo thứ tự từ lớn đến bé\n",
    "a = int(input('số thứ nhất:'))\n",
    "b = int(input('số thứ hai:'))\n",
    "c = int(input('số thứ ba:'))\n",
    "\n",
    "max_n = max(a,b,c)\n",
    "min_n = min(a,b,c)\n",
    "#số thứ hai = tổng (a+b+c) - max -min\n",
    "mid_n = a+b+c- max_n - min_n\n",
    "print (max_n, mid_n, min_n)"
   ]
  },
  {
   "cell_type": "code",
   "execution_count": 30,
   "id": "70226efa-54ce-4311-b5c4-eabf7587c34c",
   "metadata": {},
   "outputs": [
    {
     "name": "stdin",
     "output_type": "stream",
     "text": [
      "nhập chiều dài cạnh thứ nhất: 3\n",
      "nhập chiều dài cạnh thứ hai: 4\n",
      "nhập chiều dài cạnh thứ ba: 5\n"
     ]
    },
    {
     "name": "stdout",
     "output_type": "stream",
     "text": [
      "tam giác vuông\n"
     ]
    }
   ],
   "source": [
    "#3 cạnh tam giác cân/đều/vuông/tam giác vô hướng\n",
    "#tam giác vuông thì bình phương cạnh huyền = tổng bình phương hai cạnh còn lại\n",
    "a= int(input('nhập chiều dài cạnh thứ nhất:'))\n",
    "b = int(input('nhập chiều dài cạnh thứ hai:'))\n",
    "c= int(input('nhập chiều dài cạnh thứ ba:'))\n",
    "\n",
    "if a == b == c:\n",
    "    print(f'tam giác đều')\n",
    "else:\n",
    "    if a==b or a==c or b==c:\n",
    "        print(f'tam giác cân')\n",
    "    elif a**2==(b**2+c**2) or b**2==(a**2+c**2) or c**2==(a**2+b**2):\n",
    "        print(f'tam giác vuông')"
   ]
  }
 ],
 "metadata": {
  "kernelspec": {
   "display_name": "Python 3 (ipykernel)",
   "language": "python",
   "name": "python3"
  },
  "language_info": {
   "codemirror_mode": {
    "name": "ipython",
    "version": 3
   },
   "file_extension": ".py",
   "mimetype": "text/x-python",
   "name": "python",
   "nbconvert_exporter": "python",
   "pygments_lexer": "ipython3",
   "version": "3.11.5"
  }
 },
 "nbformat": 4,
 "nbformat_minor": 5
}
