{
 "cells": [
  {
   "cell_type": "code",
   "execution_count": null,
   "id": "38153fe9-0953-41e0-9c5e-b7a80a522e32",
   "metadata": {},
   "outputs": [],
   "source": [
    "'''viết hàm in bảng cửu chương''"
   ]
  },
  {
   "cell_type": "code",
   "execution_count": null,
   "id": "e372c943-f4fd-44c5-9a09-045eeda74453",
   "metadata": {},
   "outputs": [],
   "source": [
    "def inBangCuuChuong(N: int):\n",
    "    for i in range (1, 11):\n",
    "        print(f\"{N} x {i:2} = {N*i}\")\n",
    "\n",
    "    return #Không trả về giá trị nào\n",
    "#gọi hàm\n",
    "inBangCuuChuong(8)\n",
    "inBangCuuChuong(9)\n",
    "\n",
    "#nếu hàm không trả về giá trị (return) thì lời gọi hàm thì phải nằm trên một lệnh riêng biệt(không có phép tính trong đó)"
   ]
  },
  {
   "cell_type": "code",
   "execution_count": 7,
   "id": "cb6ef00f-1924-422f-b33e-3324cb6d23f8",
   "metadata": {},
   "outputs": [
    {
     "name": "stdout",
     "output_type": "stream",
     "text": [
      "4.23606797749979\n"
     ]
    }
   ],
   "source": [
    "'''g(x,y) = can_bac_hai (x) + can_bac_hai(y)'''\n",
    "import math\n",
    "def g(x:int,y:int):\n",
    "    return math.sqrt(x) + math.sqrt(y)\n",
    "#gọi hàm\n",
    "gia_tri = g(5,4)\n",
    "print(gia_tri)"
   ]
  },
  {
   "cell_type": "code",
   "execution_count": 8,
   "id": "251cf9ee-c6cd-4f8d-893a-c02e41b01d66",
   "metadata": {},
   "outputs": [
    {
     "name": "stdout",
     "output_type": "stream",
     "text": [
      "Begin x=7, y=9.1\n",
      "Inside x=45.5, y=9.1\n",
      "End x=7, y=9.1\n"
     ]
    }
   ],
   "source": [
    "#demo phạm vi của biến\n",
    "def tinhToan(x,y):\n",
    "    x = y *5\n",
    "    print(f\"Inside x={x}, y={y}\")\n",
    "#gọi hàm\n",
    "x=7\n",
    "y= 9.1\n",
    "\n",
    "print(f\"Begin x={x}, y={y}\")\n",
    "tinhToan(x,y)\n",
    "print(f\"End x={x}, y={y}\") #chứng minh ra khỏi hàm ko thay đổi giá tri =biến local"
   ]
  },
  {
   "cell_type": "code",
   "execution_count": 9,
   "id": "cef3921f-d651-45f0-855e-f305965e21b0",
   "metadata": {},
   "outputs": [
    {
     "name": "stdout",
     "output_type": "stream",
     "text": [
      "Begin x=7, y=9.1\n",
      "Inside x=45.5, y=9.1\n",
      "End x=45.5, y=9.1\n"
     ]
    }
   ],
   "source": [
    "#demo phạm vi của biến toàn cục (global)\n",
    "def tinhToan():\n",
    "    global x\n",
    "    global y\n",
    "    x = y *5\n",
    "    print(f\"Inside x={x}, y={y}\")\n",
    "#gọi hàm\n",
    "x=7\n",
    "y= 9.1\n",
    "\n",
    "print(f\"Begin x={x}, y={y}\")\n",
    "tinhToan()\n",
    "print(f\"End x={x}, y={y}\")\n",
    "#kết quả sẽ khác phần trên ví biến là global"
   ]
  },
  {
   "cell_type": "code",
   "execution_count": null,
   "id": "369d9847-806a-422b-af97-ee3a1b48f97d",
   "metadata": {},
   "outputs": [],
   "source": [
    "''' Mutable object: biến dạng list, dict, class (danh sách)\n",
    "Immutable object: int, float, bool, tuple, string\n",
    "'''\n",
    "def themDanhSach(arr): #array\n",
    "    arr = arr +[7]\n",
    "    print(f'Inside{arr}')\n",
    "pass   \n",
    "\n",
    "#demo 1: immutable\n",
    "#arr = 7\n",
    "#print(f'Before {arr}')\n"
   ]
  },
  {
   "cell_type": "code",
   "execution_count": 20,
   "id": "357f2380-7195-41f8-b6dc-e41be6223424",
   "metadata": {
    "scrolled": true
   },
   "outputs": [
    {
     "ename": "Terminator",
     "evalue": "",
     "output_type": "error",
     "traceback": [
      "\u001b[1;31m---------------------------------------------------------------------------\u001b[0m",
      "\u001b[1;31mTerminator\u001b[0m                                Traceback (most recent call last)",
      "Cell \u001b[1;32mIn[20], line 4\u001b[0m\n\u001b[0;32m      2\u001b[0m \u001b[38;5;28;01mimport\u001b[39;00m \u001b[38;5;21;01mturtle\u001b[39;00m\n\u001b[0;32m      3\u001b[0m \u001b[38;5;66;03m#hàm vẽ 1 ô (gồm 2 hcn con)\u001b[39;00m\n\u001b[1;32m----> 4\u001b[0m t \u001b[38;5;241m=\u001b[39m \u001b[43mturtle\u001b[49m\u001b[38;5;241;43m.\u001b[39;49m\u001b[43mTurtle\u001b[49m\u001b[43m(\u001b[49m\u001b[43m)\u001b[49m\n\u001b[0;32m      5\u001b[0m \u001b[38;5;28;01mdef\u001b[39;00m \u001b[38;5;21mveMotO\u001b[39m(w1, h1, w2, h2):\n\u001b[0;32m      6\u001b[0m     t\u001b[38;5;241m.\u001b[39mhideturtle()\n",
      "File \u001b[1;32m~\\AppData\\Local\\Programs\\Python\\Python311\\Lib\\turtle.py:3831\u001b[0m, in \u001b[0;36mTurtle.__init__\u001b[1;34m(self, shape, undobuffersize, visible)\u001b[0m\n\u001b[0;32m   3829\u001b[0m \u001b[38;5;28;01mif\u001b[39;00m Turtle\u001b[38;5;241m.\u001b[39m_screen \u001b[38;5;129;01mis\u001b[39;00m \u001b[38;5;28;01mNone\u001b[39;00m:\n\u001b[0;32m   3830\u001b[0m     Turtle\u001b[38;5;241m.\u001b[39m_screen \u001b[38;5;241m=\u001b[39m Screen()\n\u001b[1;32m-> 3831\u001b[0m \u001b[43mRawTurtle\u001b[49m\u001b[38;5;241;43m.\u001b[39;49m\u001b[38;5;21;43m__init__\u001b[39;49m\u001b[43m(\u001b[49m\u001b[38;5;28;43mself\u001b[39;49m\u001b[43m,\u001b[49m\u001b[43m \u001b[49m\u001b[43mTurtle\u001b[49m\u001b[38;5;241;43m.\u001b[39;49m\u001b[43m_screen\u001b[49m\u001b[43m,\u001b[49m\n\u001b[0;32m   3832\u001b[0m \u001b[43m                   \u001b[49m\u001b[43mshape\u001b[49m\u001b[38;5;241;43m=\u001b[39;49m\u001b[43mshape\u001b[49m\u001b[43m,\u001b[49m\n\u001b[0;32m   3833\u001b[0m \u001b[43m                   \u001b[49m\u001b[43mundobuffersize\u001b[49m\u001b[38;5;241;43m=\u001b[39;49m\u001b[43mundobuffersize\u001b[49m\u001b[43m,\u001b[49m\n\u001b[0;32m   3834\u001b[0m \u001b[43m                   \u001b[49m\u001b[43mvisible\u001b[49m\u001b[38;5;241;43m=\u001b[39;49m\u001b[43mvisible\u001b[49m\u001b[43m)\u001b[49m\n",
      "File \u001b[1;32m~\\AppData\\Local\\Programs\\Python\\Python311\\Lib\\turtle.py:2558\u001b[0m, in \u001b[0;36mRawTurtle.__init__\u001b[1;34m(self, canvas, shape, undobuffersize, visible)\u001b[0m\n\u001b[0;32m   2556\u001b[0m \u001b[38;5;28mself\u001b[39m\u001b[38;5;241m.\u001b[39m_undobuffersize \u001b[38;5;241m=\u001b[39m undobuffersize\n\u001b[0;32m   2557\u001b[0m \u001b[38;5;28mself\u001b[39m\u001b[38;5;241m.\u001b[39mundobuffer \u001b[38;5;241m=\u001b[39m Tbuffer(undobuffersize)\n\u001b[1;32m-> 2558\u001b[0m \u001b[38;5;28;43mself\u001b[39;49m\u001b[38;5;241;43m.\u001b[39;49m\u001b[43m_update\u001b[49m\u001b[43m(\u001b[49m\u001b[43m)\u001b[49m\n",
      "File \u001b[1;32m~\\AppData\\Local\\Programs\\Python\\Python311\\Lib\\turtle.py:2661\u001b[0m, in \u001b[0;36mRawTurtle._update\u001b[1;34m(self)\u001b[0m\n\u001b[0;32m   2659\u001b[0m     \u001b[38;5;28;01mreturn\u001b[39;00m\n\u001b[0;32m   2660\u001b[0m \u001b[38;5;28;01melif\u001b[39;00m screen\u001b[38;5;241m.\u001b[39m_tracing \u001b[38;5;241m==\u001b[39m \u001b[38;5;241m1\u001b[39m:\n\u001b[1;32m-> 2661\u001b[0m     \u001b[38;5;28;43mself\u001b[39;49m\u001b[38;5;241;43m.\u001b[39;49m\u001b[43m_update_data\u001b[49m\u001b[43m(\u001b[49m\u001b[43m)\u001b[49m\n\u001b[0;32m   2662\u001b[0m     \u001b[38;5;28mself\u001b[39m\u001b[38;5;241m.\u001b[39m_drawturtle()\n\u001b[0;32m   2663\u001b[0m     screen\u001b[38;5;241m.\u001b[39m_update()                  \u001b[38;5;66;03m# TurtleScreenBase\u001b[39;00m\n",
      "File \u001b[1;32m~\\AppData\\Local\\Programs\\Python\\Python311\\Lib\\turtle.py:2647\u001b[0m, in \u001b[0;36mRawTurtle._update_data\u001b[1;34m(self)\u001b[0m\n\u001b[0;32m   2646\u001b[0m \u001b[38;5;28;01mdef\u001b[39;00m \u001b[38;5;21m_update_data\u001b[39m(\u001b[38;5;28mself\u001b[39m):\n\u001b[1;32m-> 2647\u001b[0m     \u001b[38;5;28;43mself\u001b[39;49m\u001b[38;5;241;43m.\u001b[39;49m\u001b[43mscreen\u001b[49m\u001b[38;5;241;43m.\u001b[39;49m\u001b[43m_incrementudc\u001b[49m\u001b[43m(\u001b[49m\u001b[43m)\u001b[49m\n\u001b[0;32m   2648\u001b[0m     \u001b[38;5;28;01mif\u001b[39;00m \u001b[38;5;28mself\u001b[39m\u001b[38;5;241m.\u001b[39mscreen\u001b[38;5;241m.\u001b[39m_updatecounter \u001b[38;5;241m!=\u001b[39m \u001b[38;5;241m0\u001b[39m:\n\u001b[0;32m   2649\u001b[0m         \u001b[38;5;28;01mreturn\u001b[39;00m\n",
      "File \u001b[1;32m~\\AppData\\Local\\Programs\\Python\\Python311\\Lib\\turtle.py:1293\u001b[0m, in \u001b[0;36mTurtleScreen._incrementudc\u001b[1;34m(self)\u001b[0m\n\u001b[0;32m   1291\u001b[0m \u001b[38;5;28;01mif\u001b[39;00m \u001b[38;5;129;01mnot\u001b[39;00m TurtleScreen\u001b[38;5;241m.\u001b[39m_RUNNING:\n\u001b[0;32m   1292\u001b[0m     TurtleScreen\u001b[38;5;241m.\u001b[39m_RUNNING \u001b[38;5;241m=\u001b[39m \u001b[38;5;28;01mTrue\u001b[39;00m\n\u001b[1;32m-> 1293\u001b[0m     \u001b[38;5;28;01mraise\u001b[39;00m Terminator\n\u001b[0;32m   1294\u001b[0m \u001b[38;5;28;01mif\u001b[39;00m \u001b[38;5;28mself\u001b[39m\u001b[38;5;241m.\u001b[39m_tracing \u001b[38;5;241m>\u001b[39m \u001b[38;5;241m0\u001b[39m:\n\u001b[0;32m   1295\u001b[0m     \u001b[38;5;28mself\u001b[39m\u001b[38;5;241m.\u001b[39m_updatecounter \u001b[38;5;241m+\u001b[39m\u001b[38;5;241m=\u001b[39m \u001b[38;5;241m1\u001b[39m\n",
      "\u001b[1;31mTerminator\u001b[0m: "
     ]
    }
   ],
   "source": [
    "#vẽ nhà sử dụng hàm\n",
    "import turtle\n",
    "#hàm vẽ 1 ô (gồm 2 hcn con)\n",
    "t = turtle.Turtle()\n",
    "def veMotO(w1, h1, w2, h2):\n",
    "    t.hideturtle()\n",
    "    t.pencolor('red')\n",
    "    t.forward(w1)\n",
    "    t.right(90)\n",
    "    t.forward(h1)\n",
    "    t.right(90)\n",
    "    t.forward(w1)\n",
    "    t.right(90)\n",
    "    t.forward(h1)\n",
    "    t.penup()\n",
    "\n",
    "    t.goto((w1 -w2)//2,-(h1-h2)//2)\n",
    "    t.pendown()\n",
    "    t.pencolor('blue')\n",
    "    t.forward(w2)\n",
    "    t.right(90)\n",
    "    t.forward(h2)\n",
    "    t.right(90)\n",
    "    t.forward(w2)\n",
    "    t.right(90)\n",
    "    t.forward(h2)\n",
    "    turtle.done()\n",
    "\n",
    "veMotO(150,250,100,100)"
   ]
  },
  {
   "cell_type": "code",
   "execution_count": null,
   "id": "178f5b50-f564-49a4-80bf-8dce26172147",
   "metadata": {},
   "outputs": [],
   "source": [
    "#vẽ nhà sử dụng hàm\n",
    "import turtle\n",
    "#hàm vẽ 1 ô (gồm 2 hcn con)\n",
    "t = turtle.Turtle()\n",
    "t.hideturtle()\n",
    "def veHinhChuNhat (w1,h1,color):\n",
    "    t.pencolor(color)\n",
    "    t.forward(w1)\n",
    "    t.right(90)\n",
    "    t.forward(h1)\n",
    "    t.right(90)\n",
    "    t.forward(w1)\n",
    "    t.right(90)\n",
    "    t.forward(h1)\n",
    "\n",
    "def veMotO(w1, h1, w2, h2, left, right):\n",
    "    veHinhChuNhat(w1,h1, 'red')\n",
    "    \n",
    "    t.penup()\n",
    "    t.goto(left,-right)\n",
    "    t.pendown()\n",
    "    veHinhChuNhat (w2,h2, 'blue')\n",
    "    \n",
    "big_w = 150\n",
    "big_h = 250\n",
    "veMotO(big_w,big_h,100,100,0,0)\n",
    "veMotO(big_w,big_h,100,100,0,big_w)\n",
    "veMotO(big_w,big_h,100,100,big_h,0)\n",
    "veMotO(big_w,big_h,100,100,big_h,big_w)\n",
    "turtle.done()"
   ]
  }
 ],
 "metadata": {
  "kernelspec": {
   "display_name": "Python 3 (ipykernel)",
   "language": "python",
   "name": "python3"
  },
  "language_info": {
   "codemirror_mode": {
    "name": "ipython",
    "version": 3
   },
   "file_extension": ".py",
   "mimetype": "text/x-python",
   "name": "python",
   "nbconvert_exporter": "python",
   "pygments_lexer": "ipython3",
   "version": "3.11.5"
  }
 },
 "nbformat": 4,
 "nbformat_minor": 5
}
