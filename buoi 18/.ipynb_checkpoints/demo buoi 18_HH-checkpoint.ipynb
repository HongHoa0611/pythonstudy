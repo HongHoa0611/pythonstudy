{
 "cells": [
  {
   "cell_type": "code",
   "execution_count": null,
   "id": "9610a362-13f1-48ed-a963-103b62e7de7e",
   "metadata": {},
   "outputs": [],
   "source": [
    "Định nghĩa lớp/kiểu dữ liệu xe hơi (car) gồm các thuộc tính sau:\n",
    "-Hãng xe\n",
    "-Model xe\n",
    "-Màu xe\n",
    "-Năm sản xuất\n",
    "và các hành vi (phương thức): Khởi động, chạy , dừng...\n",
    "Xuất thuông tin xe gồm hãng, model, màu, măn sx"
   ]
  },
  {
   "cell_type": "code",
   "execution_count": 10,
   "id": "7ecfee8e-fc25-4d43-b4dc-92635f14bfb9",
   "metadata": {},
   "outputs": [
    {
     "name": "stdout",
     "output_type": "stream",
     "text": [
      "Mazda CX5 Red 2020\n",
      "Mazda\n",
      "Mazda CX5 Red 2020\n",
      "xe bắt đầu chạy\n",
      "Santafe\n"
     ]
    },
    {
     "ename": "TypeError",
     "evalue": "'builtin_function_or_method' object does not support item assignment",
     "output_type": "error",
     "traceback": [
      "\u001b[1;31m---------------------------------------------------------------------------\u001b[0m",
      "\u001b[1;31mTypeError\u001b[0m                                 Traceback (most recent call last)",
      "Cell \u001b[1;32mIn[10], line 35\u001b[0m\n\u001b[0;32m     32\u001b[0m \u001b[38;5;28mprint\u001b[39m(his_car\u001b[38;5;241m.\u001b[39mmodel)\n\u001b[0;32m     34\u001b[0m cars \u001b[38;5;241m=\u001b[39m []\n\u001b[1;32m---> 35\u001b[0m \u001b[43mcars\u001b[49m\u001b[38;5;241;43m.\u001b[39;49m\u001b[43mappend\u001b[49m\u001b[43m[\u001b[49m\u001b[38;5;241;43m0\u001b[39;49m\u001b[43m]\u001b[49m \u001b[38;5;241m=\u001b[39m mycar\n\u001b[0;32m     36\u001b[0m cars\u001b[38;5;241m.\u001b[39mappend(his_car)\n\u001b[0;32m     37\u001b[0m \u001b[38;5;28mprint\u001b[39m(cars)\n",
      "\u001b[1;31mTypeError\u001b[0m: 'builtin_function_or_method' object does not support item assignment"
     ]
    }
   ],
   "source": [
    "class Car: \n",
    "    #khai báo thuộc tính (đặc điểm đặc trưng cho đối tượng phù hợp bài toán quản lý)\n",
    "    name = \"\"\n",
    "    model = \"\"\n",
    "    color = \"\"\n",
    "    year = 0\n",
    "\n",
    "    #hàm (method) tạo __init__(mục đích: khai báo và khởi tạo đối tượng)\n",
    "    def __init__(self, hang, ten, mau, nam_sx):\n",
    "        self.name = hang\n",
    "        self.model = ten\n",
    "        self.color = mau\n",
    "        self.year = nam_sx\n",
    "\n",
    "    def xuat_thong_tin(self):\n",
    "        print(f\"{self.name} {self.model} {self.color} {self.year}\")\n",
    "\n",
    "    def start(self):\n",
    "        print(\"xe bắt đầu chạy\")\n",
    "        \n",
    "    def __str__(self):\n",
    "        return f\"{self.name} {self.model} {self.color} {self.year}\"\n",
    "#demo\n",
    "mycar = Car('Mazda', 'CX5', 'Red', 2020)\n",
    "print(mycar) #mycar.__str__()\n",
    "print(mycar.name)\n",
    "mycar.xuat_thong_tin()\n",
    "mycar.start()\n",
    "#mycar=object\n",
    "\n",
    "his_car = Car('Huyndai', 'Santafe', 'Gray', 2022)\n",
    "print(his_car.model)\n",
    "\n",
    "cars = []\n",
    "cars.append[0] = mycar\n",
    "cars.append(his_car)\n",
    "print(cars)"
   ]
  },
  {
   "cell_type": "code",
   "execution_count": 23,
   "id": "37fb3c63-48f6-412f-a529-b7bf31a57582",
   "metadata": {},
   "outputs": [
    {
     "name": "stdout",
     "output_type": "stream",
     "text": [
      "50\n",
      "7853.981633974483\n",
      "50 red, S = 7853.981633974483\n"
     ]
    }
   ],
   "source": [
    "import math\n",
    "import turtle\n",
    "class Circle:\n",
    "    radius = 0\n",
    "    color = \"\"\n",
    "    x = 0\n",
    "    y = 0\n",
    "\n",
    "    def __init__(self, ban_kinh, mau, x, y):\n",
    "        self.radius = ban_kinh\n",
    "        self.color = mau\n",
    "        self.x = x\n",
    "        self.y = y\n",
    "    def getRadius(self):\n",
    "        return self.radius\n",
    "        '''chú ý phần trả về return gọi trong class bắt buộc phải có self'''\n",
    "    def getArea(self):\n",
    "        return math.pi * self.radius**2\n",
    "    def __str__(self):\n",
    "        return f\"{self.radius} {self.color}, S = {self.getArea()}\"\n",
    "    \n",
    "    def draw(self):\n",
    "        t = turtle.Turtle()\n",
    "        t.penup()\n",
    "        t.goto(self.x, self.y)\n",
    "        t.pendown()\n",
    "        t.color(self.color)\n",
    "        t.circle(self.radius)\n",
    "        turtle.done()\n",
    "        \n",
    "\n",
    "#Demo\n",
    "c = Circle(50, \"red\", 20, -20)\n",
    "c.draw()\n",
    "print(c.radius)\n",
    "print(c.getArea())\n",
    "print(c)"
   ]
  },
  {
   "cell_type": "code",
   "execution_count": 24,
   "id": "08d62ee5-c90a-4529-94fe-47504a51fe6c",
   "metadata": {},
   "outputs": [
    {
     "name": "stdout",
     "output_type": "stream",
     "text": [
      "7 7\n",
      "Circle black R = 9, S = 254.46900494077323\n"
     ]
    },
    {
     "ename": "Terminator",
     "evalue": "",
     "output_type": "error",
     "traceback": [
      "\u001b[1;31m---------------------------------------------------------------------------\u001b[0m",
      "\u001b[1;31mTerminator\u001b[0m                                Traceback (most recent call last)",
      "Cell \u001b[1;32mIn[24], line 47\u001b[0m\n\u001b[0;32m     45\u001b[0m \u001b[38;5;28mprint\u001b[39m(ht1\u001b[38;5;241m.\u001b[39mradius, ht1\u001b[38;5;241m.\u001b[39mgetRadius())\n\u001b[0;32m     46\u001b[0m \u001b[38;5;28mprint\u001b[39m(ht2)\n\u001b[1;32m---> 47\u001b[0m \u001b[43mht1\u001b[49m\u001b[38;5;241;43m.\u001b[39;49m\u001b[43mdraw\u001b[49m\u001b[43m(\u001b[49m\u001b[43m)\u001b[49m\n",
      "Cell \u001b[1;32mIn[24], line 30\u001b[0m, in \u001b[0;36mCircle.draw\u001b[1;34m(self)\u001b[0m\n\u001b[0;32m     28\u001b[0m \u001b[38;5;28;01mdef\u001b[39;00m \u001b[38;5;21mdraw\u001b[39m(\u001b[38;5;28mself\u001b[39m):\n\u001b[0;32m     29\u001b[0m \u001b[38;5;250m    \u001b[39m\u001b[38;5;124;03m\"\"\"Phương thức vẽ đường tròn\"\"\"\u001b[39;00m\n\u001b[1;32m---> 30\u001b[0m     t \u001b[38;5;241m=\u001b[39m \u001b[43mturtle\u001b[49m\u001b[38;5;241;43m.\u001b[39;49m\u001b[43mTurtle\u001b[49m\u001b[43m(\u001b[49m\u001b[43m)\u001b[49m\n\u001b[0;32m     31\u001b[0m     t\u001b[38;5;241m.\u001b[39mhideturtle()\n\u001b[0;32m     32\u001b[0m     t\u001b[38;5;241m.\u001b[39mcolor(\u001b[38;5;28mself\u001b[39m\u001b[38;5;241m.\u001b[39mcolor)\n",
      "File \u001b[1;32m~\\AppData\\Local\\Programs\\Python\\Python311\\Lib\\turtle.py:3831\u001b[0m, in \u001b[0;36mTurtle.__init__\u001b[1;34m(self, shape, undobuffersize, visible)\u001b[0m\n\u001b[0;32m   3829\u001b[0m \u001b[38;5;28;01mif\u001b[39;00m Turtle\u001b[38;5;241m.\u001b[39m_screen \u001b[38;5;129;01mis\u001b[39;00m \u001b[38;5;28;01mNone\u001b[39;00m:\n\u001b[0;32m   3830\u001b[0m     Turtle\u001b[38;5;241m.\u001b[39m_screen \u001b[38;5;241m=\u001b[39m Screen()\n\u001b[1;32m-> 3831\u001b[0m \u001b[43mRawTurtle\u001b[49m\u001b[38;5;241;43m.\u001b[39;49m\u001b[38;5;21;43m__init__\u001b[39;49m\u001b[43m(\u001b[49m\u001b[38;5;28;43mself\u001b[39;49m\u001b[43m,\u001b[49m\u001b[43m \u001b[49m\u001b[43mTurtle\u001b[49m\u001b[38;5;241;43m.\u001b[39;49m\u001b[43m_screen\u001b[49m\u001b[43m,\u001b[49m\n\u001b[0;32m   3832\u001b[0m \u001b[43m                   \u001b[49m\u001b[43mshape\u001b[49m\u001b[38;5;241;43m=\u001b[39;49m\u001b[43mshape\u001b[49m\u001b[43m,\u001b[49m\n\u001b[0;32m   3833\u001b[0m \u001b[43m                   \u001b[49m\u001b[43mundobuffersize\u001b[49m\u001b[38;5;241;43m=\u001b[39;49m\u001b[43mundobuffersize\u001b[49m\u001b[43m,\u001b[49m\n\u001b[0;32m   3834\u001b[0m \u001b[43m                   \u001b[49m\u001b[43mvisible\u001b[49m\u001b[38;5;241;43m=\u001b[39;49m\u001b[43mvisible\u001b[49m\u001b[43m)\u001b[49m\n",
      "File \u001b[1;32m~\\AppData\\Local\\Programs\\Python\\Python311\\Lib\\turtle.py:2558\u001b[0m, in \u001b[0;36mRawTurtle.__init__\u001b[1;34m(self, canvas, shape, undobuffersize, visible)\u001b[0m\n\u001b[0;32m   2556\u001b[0m \u001b[38;5;28mself\u001b[39m\u001b[38;5;241m.\u001b[39m_undobuffersize \u001b[38;5;241m=\u001b[39m undobuffersize\n\u001b[0;32m   2557\u001b[0m \u001b[38;5;28mself\u001b[39m\u001b[38;5;241m.\u001b[39mundobuffer \u001b[38;5;241m=\u001b[39m Tbuffer(undobuffersize)\n\u001b[1;32m-> 2558\u001b[0m \u001b[38;5;28;43mself\u001b[39;49m\u001b[38;5;241;43m.\u001b[39;49m\u001b[43m_update\u001b[49m\u001b[43m(\u001b[49m\u001b[43m)\u001b[49m\n",
      "File \u001b[1;32m~\\AppData\\Local\\Programs\\Python\\Python311\\Lib\\turtle.py:2661\u001b[0m, in \u001b[0;36mRawTurtle._update\u001b[1;34m(self)\u001b[0m\n\u001b[0;32m   2659\u001b[0m     \u001b[38;5;28;01mreturn\u001b[39;00m\n\u001b[0;32m   2660\u001b[0m \u001b[38;5;28;01melif\u001b[39;00m screen\u001b[38;5;241m.\u001b[39m_tracing \u001b[38;5;241m==\u001b[39m \u001b[38;5;241m1\u001b[39m:\n\u001b[1;32m-> 2661\u001b[0m     \u001b[38;5;28;43mself\u001b[39;49m\u001b[38;5;241;43m.\u001b[39;49m\u001b[43m_update_data\u001b[49m\u001b[43m(\u001b[49m\u001b[43m)\u001b[49m\n\u001b[0;32m   2662\u001b[0m     \u001b[38;5;28mself\u001b[39m\u001b[38;5;241m.\u001b[39m_drawturtle()\n\u001b[0;32m   2663\u001b[0m     screen\u001b[38;5;241m.\u001b[39m_update()                  \u001b[38;5;66;03m# TurtleScreenBase\u001b[39;00m\n",
      "File \u001b[1;32m~\\AppData\\Local\\Programs\\Python\\Python311\\Lib\\turtle.py:2647\u001b[0m, in \u001b[0;36mRawTurtle._update_data\u001b[1;34m(self)\u001b[0m\n\u001b[0;32m   2646\u001b[0m \u001b[38;5;28;01mdef\u001b[39;00m \u001b[38;5;21m_update_data\u001b[39m(\u001b[38;5;28mself\u001b[39m):\n\u001b[1;32m-> 2647\u001b[0m     \u001b[38;5;28;43mself\u001b[39;49m\u001b[38;5;241;43m.\u001b[39;49m\u001b[43mscreen\u001b[49m\u001b[38;5;241;43m.\u001b[39;49m\u001b[43m_incrementudc\u001b[49m\u001b[43m(\u001b[49m\u001b[43m)\u001b[49m\n\u001b[0;32m   2648\u001b[0m     \u001b[38;5;28;01mif\u001b[39;00m \u001b[38;5;28mself\u001b[39m\u001b[38;5;241m.\u001b[39mscreen\u001b[38;5;241m.\u001b[39m_updatecounter \u001b[38;5;241m!=\u001b[39m \u001b[38;5;241m0\u001b[39m:\n\u001b[0;32m   2649\u001b[0m         \u001b[38;5;28;01mreturn\u001b[39;00m\n",
      "File \u001b[1;32m~\\AppData\\Local\\Programs\\Python\\Python311\\Lib\\turtle.py:1293\u001b[0m, in \u001b[0;36mTurtleScreen._incrementudc\u001b[1;34m(self)\u001b[0m\n\u001b[0;32m   1291\u001b[0m \u001b[38;5;28;01mif\u001b[39;00m \u001b[38;5;129;01mnot\u001b[39;00m TurtleScreen\u001b[38;5;241m.\u001b[39m_RUNNING:\n\u001b[0;32m   1292\u001b[0m     TurtleScreen\u001b[38;5;241m.\u001b[39m_RUNNING \u001b[38;5;241m=\u001b[39m \u001b[38;5;28;01mTrue\u001b[39;00m\n\u001b[1;32m-> 1293\u001b[0m     \u001b[38;5;28;01mraise\u001b[39;00m Terminator\n\u001b[0;32m   1294\u001b[0m \u001b[38;5;28;01mif\u001b[39;00m \u001b[38;5;28mself\u001b[39m\u001b[38;5;241m.\u001b[39m_tracing \u001b[38;5;241m>\u001b[39m \u001b[38;5;241m0\u001b[39m:\n\u001b[0;32m   1295\u001b[0m     \u001b[38;5;28mself\u001b[39m\u001b[38;5;241m.\u001b[39m_updatecounter \u001b[38;5;241m+\u001b[39m\u001b[38;5;241m=\u001b[39m \u001b[38;5;241m1\u001b[39m\n",
      "\u001b[1;31mTerminator\u001b[0m: "
     ]
    }
   ],
   "source": [
    "import math\n",
    "import turtle\n",
    "\n",
    "class Circle:\n",
    "    radius = 0\n",
    "    color = ''\n",
    "    x = 0\n",
    "    y = 0\n",
    "\n",
    "    def __init__(self, radius, color, x, y):\n",
    "        self.radius = radius\n",
    "        self.color = color\n",
    "        self.x = x\n",
    "        self.y = y\n",
    "\n",
    "    def getRadius(self):\n",
    "        return self.radius\n",
    "    \n",
    "    def getArea(self):\n",
    "        return math.pi * self.radius ** 2\n",
    "\n",
    "    def getPerimeter(self):\n",
    "        \"\"\"\n",
    "        Phương thức tính chu vi đường tròn\n",
    "        \"\"\"\n",
    "        return 2 * math.pi * self.r\n",
    "\n",
    "    def draw(self):\n",
    "        \"\"\"Phương thức vẽ đường tròn\"\"\"\n",
    "        t = turtle.Turtle()\n",
    "        t.hideturtle()\n",
    "        t.color(self.color)\n",
    "        t.penup()\n",
    "        t.goto(self.x, self.y)\n",
    "        t.pendown()\n",
    "        t.circle(self.radius)\n",
    "        turtle.done()\n",
    "\n",
    "    def __str__(self):\n",
    "        return f\"Circle {self.color} R = {self.radius}, S = {self.getArea()}\"\n",
    "        \n",
    "# Demo\n",
    "ht1 = Circle(7, 'blue', 100, 100)\n",
    "ht2 = Circle(9, 'black', 200, 200)\n",
    "print(ht1.radius, ht1.getRadius())\n",
    "print(ht2)\n",
    "ht1.draw()"
   ]
  },
  {
   "cell_type": "code",
   "execution_count": null,
   "id": "75a1b258-fa34-4ff9-9742-09ce3ef70e62",
   "metadata": {},
   "outputs": [],
   "source": []
  }
 ],
 "metadata": {
  "kernelspec": {
   "display_name": "Python 3 (ipykernel)",
   "language": "python",
   "name": "python3"
  },
  "language_info": {
   "codemirror_mode": {
    "name": "ipython",
    "version": 3
   },
   "file_extension": ".py",
   "mimetype": "text/x-python",
   "name": "python",
   "nbconvert_exporter": "python",
   "pygments_lexer": "ipython3",
   "version": "3.11.5"
  }
 },
 "nbformat": 4,
 "nbformat_minor": 5
}
