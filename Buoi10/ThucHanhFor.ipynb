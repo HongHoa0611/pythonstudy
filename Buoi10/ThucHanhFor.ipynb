{
 "cells": [
  {
   "cell_type": "code",
   "execution_count": null,
   "id": "7c279d99",
   "metadata": {},
   "outputs": [],
   "source": [
    "'''\n",
    "Warm-up: In ra 10 số tự nhiên đầu tiên từ 1 đến 10\n",
    "'''"
   ]
  },
  {
   "cell_type": "code",
   "execution_count": 6,
   "id": "d6a0bb9b-82e5-4cfb-9e8e-b501e3a85cd1",
   "metadata": {},
   "outputs": [
    {
     "name": "stdin",
     "output_type": "stream",
     "text": [
      "nhập số:  12\n"
     ]
    },
    {
     "name": "stdout",
     "output_type": "stream",
     "text": [
      "1\n",
      "2\n",
      "3\n",
      "4\n",
      "5\n",
      "6\n",
      "7\n",
      "8\n",
      "9\n",
      "10\n",
      "11\n",
      "12\n"
     ]
    }
   ],
   "source": [
    "n = int(input(\"nhập số: \"))\n",
    "for num in range(1, n+1):\n",
    "    print(num)"
   ]
  },
  {
   "cell_type": "code",
   "execution_count": null,
   "id": "c1e56a77-6171-4acd-986c-24d51b5edd5d",
   "metadata": {},
   "outputs": [],
   "source": [
    "while True:\n",
    "    try:\n",
    "        n = int(input(\"nhập số nguyên n: \"))\n",
    "        for num in range(1, n+1):\n",
    "            print(num) \n",
    "        break #xài while True phải có break nếu ko sẽ chạy mãi\n",
    "        \n",
    "    except:\n",
    "        print('Không hợp lệ. Nhập lại!')"
   ]
  },
  {
   "cell_type": "code",
   "execution_count": null,
   "id": "66918d7e",
   "metadata": {},
   "outputs": [],
   "source": [
    "'''\n",
    "Bài 1: Nhập vào số nguyên dương n. Tính tổng các số tự nhiên từ 1 đến n.\n",
    "'''"
   ]
  },
  {
   "cell_type": "code",
   "execution_count": 14,
   "id": "81e6854f-862c-43d2-9ad3-4f6b524dcbd0",
   "metadata": {},
   "outputs": [
    {
     "name": "stdin",
     "output_type": "stream",
     "text": [
      "Hãy nhập số:  12\n"
     ]
    },
    {
     "name": "stdout",
     "output_type": "stream",
     "text": [
      "Tổng = 78\n"
     ]
    }
   ],
   "source": [
    "n= int(input(\"Hãy nhập số: \"))\n",
    "sum = 0\n",
    "for i in range (1,n+1):\n",
    "    sum+=i\n",
    "print(\"Tổng =\",sum)"
   ]
  },
  {
   "cell_type": "code",
   "execution_count": null,
   "id": "be255bdc",
   "metadata": {},
   "outputs": [],
   "source": [
    "'''\n",
    "Bài 2: Nhập vào số nguyên dương n. In ra bảng cửu chương từ 1 đến 10 của n.\n",
    "'''"
   ]
  },
  {
   "cell_type": "code",
   "execution_count": 15,
   "id": "c93e2c1d-ea88-4897-9de0-404901c25e76",
   "metadata": {
    "scrolled": true
   },
   "outputs": [
    {
     "name": "stdin",
     "output_type": "stream",
     "text": [
      "Hãy nhập số:  11\n"
     ]
    },
    {
     "name": "stdout",
     "output_type": "stream",
     "text": [
      "11* 1=   11\n",
      "11* 2=   22\n",
      "11* 3=   33\n",
      "11* 4=   44\n",
      "11* 5=   55\n",
      "11* 6=   66\n",
      "11* 7=   77\n",
      "11* 8=   88\n",
      "11* 9=   99\n",
      "11*10=  110\n"
     ]
    }
   ],
   "source": [
    "n= int(input(\"Hãy nhập số: \"))\n",
    "for i in range(1,11):\n",
    "    print(f\"{n}*{i:2}={n*i:5}\") #sau dấu hai chấm là số khoảng trắng mong muốn"
   ]
  },
  {
   "cell_type": "code",
   "execution_count": null,
   "id": "3432f92b-9721-4e95-95f5-f3d54d401c4c",
   "metadata": {},
   "outputs": [],
   "source": []
  },
  {
   "cell_type": "code",
   "execution_count": 12,
   "id": "6c54139e-e08a-4d76-93c7-9c5a363b3426",
   "metadata": {},
   "outputs": [
    {
     "name": "stdin",
     "output_type": "stream",
     "text": [
      "Hãy nhập số:  11\n"
     ]
    },
    {
     "name": "stdout",
     "output_type": "stream",
     "text": [
      "2* 1=    2\n",
      "2* 2=    4\n",
      "2* 3=    6\n",
      "2* 4=    8\n",
      "2* 5=   10\n",
      "2* 6=   12\n",
      "2* 7=   14\n",
      "2* 8=   16\n",
      "2* 9=   18\n",
      "2*10=   20\n",
      "3* 1=    3\n",
      "3* 2=    6\n",
      "3* 3=    9\n",
      "3* 4=   12\n",
      "3* 5=   15\n",
      "3* 6=   18\n",
      "3* 7=   21\n",
      "3* 8=   24\n",
      "3* 9=   27\n",
      "3*10=   30\n",
      "4* 1=    4\n",
      "4* 2=    8\n",
      "4* 3=   12\n",
      "4* 4=   16\n",
      "4* 5=   20\n",
      "4* 6=   24\n",
      "4* 7=   28\n",
      "4* 8=   32\n",
      "4* 9=   36\n",
      "4*10=   40\n",
      "5* 1=    5\n",
      "5* 2=   10\n",
      "5* 3=   15\n",
      "5* 4=   20\n",
      "5* 5=   25\n",
      "5* 6=   30\n",
      "5* 7=   35\n",
      "5* 8=   40\n",
      "5* 9=   45\n",
      "5*10=   50\n",
      "6* 1=    6\n",
      "6* 2=   12\n",
      "6* 3=   18\n",
      "6* 4=   24\n",
      "6* 5=   30\n",
      "6* 6=   36\n",
      "6* 7=   42\n",
      "6* 8=   48\n",
      "6* 9=   54\n",
      "6*10=   60\n",
      "7* 1=    7\n",
      "7* 2=   14\n",
      "7* 3=   21\n",
      "7* 4=   28\n",
      "7* 5=   35\n",
      "7* 6=   42\n",
      "7* 7=   49\n",
      "7* 8=   56\n",
      "7* 9=   63\n",
      "7*10=   70\n",
      "8* 1=    8\n",
      "8* 2=   16\n",
      "8* 3=   24\n",
      "8* 4=   32\n",
      "8* 5=   40\n",
      "8* 6=   48\n",
      "8* 7=   56\n",
      "8* 8=   64\n",
      "8* 9=   72\n",
      "8*10=   80\n",
      "9* 1=    9\n",
      "9* 2=   18\n",
      "9* 3=   27\n",
      "9* 4=   36\n",
      "9* 5=   45\n",
      "9* 6=   54\n",
      "9* 7=   63\n",
      "9* 8=   72\n",
      "9* 9=   81\n",
      "9*10=   90\n",
      "10* 1=   10\n",
      "10* 2=   20\n",
      "10* 3=   30\n",
      "10* 4=   40\n",
      "10* 5=   50\n",
      "10* 6=   60\n",
      "10* 7=   70\n",
      "10* 8=   80\n",
      "10* 9=   90\n",
      "10*10=  100\n",
      "11* 1=   11\n",
      "11* 2=   22\n",
      "11* 3=   33\n",
      "11* 4=   44\n",
      "11* 5=   55\n",
      "11* 6=   66\n",
      "11* 7=   77\n",
      "11* 8=   88\n",
      "11* 9=   99\n",
      "11*10=  110\n"
     ]
    }
   ],
   "source": [
    "n= int(input(\"Hãy nhập số: \"))\n",
    "for n in range (2,n+1):\n",
    "    for i in range(1,11):\n",
    "     print(f\"{n}*{i:2}={n*i:5}\")"
   ]
  },
  {
   "cell_type": "code",
   "execution_count": 17,
   "id": "0959fa31-efe3-41df-9e88-db588c1ebd93",
   "metadata": {},
   "outputs": [
    {
     "name": "stdin",
     "output_type": "stream",
     "text": [
      "Hãy nhập số:  9\n"
     ]
    },
    {
     "name": "stdout",
     "output_type": "stream",
     "text": [
      "2* 1=    2 | 2* 2=    4 | 2* 3=    6 | 2* 4=    8 | 2* 5=   10 | 2* 6=   12 | 2* 7=   14 | 2* 8=   16 | 2* 9=   18 | 2*10=   20 | \n",
      "3* 1=    3 | 3* 2=    6 | 3* 3=    9 | 3* 4=   12 | 3* 5=   15 | 3* 6=   18 | 3* 7=   21 | 3* 8=   24 | 3* 9=   27 | 3*10=   30 | \n",
      "4* 1=    4 | 4* 2=    8 | 4* 3=   12 | 4* 4=   16 | 4* 5=   20 | 4* 6=   24 | 4* 7=   28 | 4* 8=   32 | 4* 9=   36 | 4*10=   40 | \n",
      "5* 1=    5 | 5* 2=   10 | 5* 3=   15 | 5* 4=   20 | 5* 5=   25 | 5* 6=   30 | 5* 7=   35 | 5* 8=   40 | 5* 9=   45 | 5*10=   50 | \n",
      "6* 1=    6 | 6* 2=   12 | 6* 3=   18 | 6* 4=   24 | 6* 5=   30 | 6* 6=   36 | 6* 7=   42 | 6* 8=   48 | 6* 9=   54 | 6*10=   60 | \n",
      "7* 1=    7 | 7* 2=   14 | 7* 3=   21 | 7* 4=   28 | 7* 5=   35 | 7* 6=   42 | 7* 7=   49 | 7* 8=   56 | 7* 9=   63 | 7*10=   70 | \n",
      "8* 1=    8 | 8* 2=   16 | 8* 3=   24 | 8* 4=   32 | 8* 5=   40 | 8* 6=   48 | 8* 7=   56 | 8* 8=   64 | 8* 9=   72 | 8*10=   80 | \n",
      "9* 1=    9 | 9* 2=   18 | 9* 3=   27 | 9* 4=   36 | 9* 5=   45 | 9* 6=   54 | 9* 7=   63 | 9* 8=   72 | 9* 9=   81 | 9*10=   90 | \n"
     ]
    }
   ],
   "source": [
    "n= int(input(\"Hãy nhập số: \"))\n",
    "for n in range (2,n+1):\n",
    "    for i in range(1,11):\n",
    "     print(f\"{n}*{i:2}={n*i:5}\", end=\" | \")\n",
    "    print()"
   ]
  },
  {
   "cell_type": "code",
   "execution_count": null,
   "id": "681c029c",
   "metadata": {},
   "outputs": [],
   "source": [
    "'''\n",
    "Bài 3: Nhập vào số nguyên dương n. Đếm xem n có bao nhiêu chữ số.\n",
    "'''"
   ]
  },
  {
   "cell_type": "code",
   "execution_count": null,
   "id": "89011a7e-4812-44f6-a590-4c044459a7b0",
   "metadata": {},
   "outputs": [],
   "source": []
  },
  {
   "cell_type": "code",
   "execution_count": null,
   "id": "7eb58122",
   "metadata": {},
   "outputs": [],
   "source": [
    "'''\n",
    "Bài 4: Nhập vào số nguyên dương n. Tính tổng các chữ số của n.\n",
    "'''"
   ]
  },
  {
   "cell_type": "code",
   "execution_count": null,
   "id": "cf0da697",
   "metadata": {},
   "outputs": [],
   "source": [
    "'''\n",
    "Bài 5: Nhập vào số nguyên dương n. Sử dụng cấu trúc vòng lặp lồng nhau(nested for loop) để in ra tam giác có dạng như sau:\n",
    "1\n",
    "1 2\n",
    "1 2 3\n",
    "1 2 3 4\n",
    "1 2 3 4 5\n",
    "'''"
   ]
  },
  {
   "cell_type": "code",
   "execution_count": null,
   "id": "1ac5d880",
   "metadata": {},
   "outputs": [],
   "source": [
    "'''\n",
    "Bài 6: Nhập vào số nguyên dương n. Sử dụng cấu trúc vòng lặp lồng nhau(nested for loop) để in ra tam giác có dạng như sau:\n",
    "5 4 3 2 1\n",
    "4 3 2 1\n",
    "3 2 1\n",
    "2 1\n",
    "1\n",
    "'''"
   ]
  },
  {
   "cell_type": "code",
   "execution_count": null,
   "id": "5a16aa66",
   "metadata": {},
   "outputs": [],
   "source": [
    "'''\n",
    "Bài 7: Nhập vào một số nguyên dương n. Tính giai thừa của n.\n",
    "Note: Giai thừa của n được tính bằng công thức: n! = n*(n - 1)*(n - 2)*...*1\n",
    "Ví dụ: 5! = 5 × 4 × 3 × 2 × 1 = 120\n",
    "'''"
   ]
  },
  {
   "cell_type": "code",
   "execution_count": null,
   "id": "8dfa4890",
   "metadata": {},
   "outputs": [],
   "source": [
    "'''\n",
    "Bài 8: Viết chương trình nhập vào một số nguyên dương n và in ra số đảo ngược của n.\n",
    "Ví dụ:\n",
    "Input: 76542\n",
    "Output: 24567\n",
    "'''"
   ]
  },
  {
   "cell_type": "code",
   "execution_count": null,
   "id": "326700db",
   "metadata": {},
   "outputs": [],
   "source": [
    "'''\n",
    "Bài 9: Viết phần mềm nhập vào số n (từ 1 đến 9) và in ra tam giác có dạng như sau:\n",
    "1\n",
    "22\n",
    "333\n",
    "4444\n",
    "55555\n",
    "666666\n",
    "7777777\n",
    "88888888\n",
    "999999999\n",
    "'''"
   ]
  },
  {
   "cell_type": "code",
   "execution_count": null,
   "id": "72a87d61",
   "metadata": {},
   "outputs": [],
   "source": [
    "'''\n",
    "Bài 10: Nhập vào một câu nói (mỗi từ cách nhau một khoảng trắng, không có dấu phẩy, chấm), hãy tách từng từ trong chuỗi ra rồi in lên màn hình. Mỗi từ in kèm với độ dài cửa từ đó\n",
    "\n",
    "Ví dụ:\n",
    "\n",
    "Nhập: Xin chào\n",
    "\n",
    "In:\n",
    "\n",
    "Xin 3\n",
    "\n",
    "Chào 4\n",
    "'''"
   ]
  },
  {
   "cell_type": "code",
   "execution_count": null,
   "id": "48421f26",
   "metadata": {},
   "outputs": [],
   "source": [
    "'''\n",
    "Bài 11: Nhập vào một chuỗi có 2 số nguyên, mỗi số cách nhau một dấu phẩy, hãy tính tổng của hai số đó\n",
    "\n",
    "Ví dụ:\n",
    "\n",
    "Nhập: 2,3 In: 5\n",
    "'''"
   ]
  },
  {
   "cell_type": "code",
   "execution_count": null,
   "id": "d878c81a",
   "metadata": {},
   "outputs": [],
   "source": [
    "'''\n",
    "Bài 12: Nhập vào một chuỗi, hãy cho biết trong chuỗi đó có bao nhiêu chữ số chẵn.\n",
    "'''"
   ]
  },
  {
   "cell_type": "code",
   "execution_count": null,
   "id": "86ef2a9a",
   "metadata": {},
   "outputs": [],
   "source": [
    "'''\n",
    "Bài 13: Cần có tổng 200.000đ từ 3 loại giấy bạc 1000đ, 2000đ, và 5000đ. Lập \n",
    "chương tình để tìm tất cả các phương án có thể.\n",
    "'''"
   ]
  },
  {
   "cell_type": "code",
   "execution_count": null,
   "id": "1f75570f",
   "metadata": {},
   "outputs": [],
   "source": [
    "'''\n",
    "Bài 14: Nhập vào một chuỗi s chỉ chứa các ký tự '(', ')', '{', '}', '[' và ']', \n",
    "xác định xem chuỗi s có hợp lệ hay không.\n",
    "\n",
    "Chuỗi đầu vào hợp lệ nếu:\n",
    "\n",
    "- Các dấu ngoặc mở phải được đóng bằng cùng một loại dấu ngoặc.\n",
    "- Dấu ngoặc mở phải được đóng theo đúng thứ tự.\n",
    "- Mọi dấu ngoặc đóng đều có một dấu ngoặc mở tương ứng cùng loại.\n",
    "\n",
    "Ví dụ 1:\n",
    "Input: s = \"()\"\n",
    "Output: True\n",
    "\n",
    "Ví dụ 2:\n",
    "Input: s = \"() [] {}\"\n",
    "Output: True\n",
    "\n",
    "Ví dụ 3:\n",
    "Input: s = \"(]\"\n",
    "Output: False\n",
    "'''"
   ]
  },
  {
   "cell_type": "code",
   "execution_count": null,
   "id": "1cc7ea23",
   "metadata": {},
   "outputs": [],
   "source": [
    "'''\n",
    "Bài 15: Roman to Integer\n",
    "Chữ số La Mã được thể hiện bằng bảy ký hiệu khác nhau: I, V, X, L, C, D và M.\n",
    "\n",
    "Symbol       Value\n",
    "I             1\n",
    "V             5\n",
    "X             10\n",
    "L             50\n",
    "C             100\n",
    "D             500\n",
    "M             1000\n",
    "\n",
    "Ví dụ: 2 được viết là II bằng số La Mã, chỉ là hai cái được cộng lại với nhau. \n",
    "12 được viết là XII, đơn giản là X + II. Con số 27 được viết là XXVII, là XX + V + II.\n",
    "\n",
    "Chữ số La mã thường được viết từ lớn nhất đến nhỏ nhất từ trái sang phải. \n",
    "Tuy nhiên, chữ số cho bốn không phải là IIII. Thay vào đó, số bốn được viết là IV. \n",
    "Bởi vì cái đứng trước năm, chúng ta trừ nó ra làm bốn. Nguyên tắc tương tự cũng áp dụng cho số chín, \n",
    "được viết là IX. Có sáu trường hợp phép trừ được sử dụng:\n",
    "\n",
    "I có thể được đặt trước V (5) và X (10) để tạo thành 4 và 9.\n",
    "X có thể được đặt trước L (50) và C (100) để tạo ra 40 và 90.\n",
    "C có thể được đặt trước D (500) và M (1000) để tạo thành 400 và 900.\n",
    "Nhập vào một chuỗi đại diện cho một số La Mã, hãy chuyển nó thành một số nguyên.\n",
    "\n",
    "Ví dụ 1:\n",
    "Input: s = \"III\"\n",
    "Output: 3\n",
    "Explanation: III = 3.\n",
    "\n",
    "Ví dụ 2:\n",
    "Input: s = \"LVIII\"\n",
    "Output: 58\n",
    "Explanation: L = 50, V= 5, III = 3.\n",
    "\n",
    "Ví dụ 3:\n",
    "Input: s = \"MCMXCIV\"\n",
    "Output: 1994\n",
    "Explanation: M = 1000, CM = 900, XC = 90 and IV = 4.\n",
    "'''"
   ]
  },
  {
   "cell_type": "code",
   "execution_count": null,
   "id": "bfe2e17f",
   "metadata": {},
   "outputs": [],
   "source": [
    "'''\n",
    "Bonus: Vẽ xe lửa\n",
    "What is the size of your train? 1\n",
    " ______________________>__\n",
    "|]||[]_[]_[]|||[]_[]_[]||[|\n",
    "\\==o-o======o-o======o-o==/\n",
    "\n",
    "What is the size of your train? 2\n",
    " _________________________   ______________________>__\n",
    "|]||[]_[]_[]|||[]_[]_[]||[| |]||[]_[]_[]|||[]_[]_[]||[|\n",
    "\\==o-o======o-o======o-o==/_\\==o-o======o-o======o-o==/\n",
    "'''"
   ]
  }
 ],
 "metadata": {
  "kernelspec": {
   "display_name": "Python 3 (ipykernel)",
   "language": "python",
   "name": "python3"
  },
  "language_info": {
   "codemirror_mode": {
    "name": "ipython",
    "version": 3
   },
   "file_extension": ".py",
   "mimetype": "text/x-python",
   "name": "python",
   "nbconvert_exporter": "python",
   "pygments_lexer": "ipython3",
   "version": "3.11.5"
  }
 },
 "nbformat": 4,
 "nbformat_minor": 5
}
