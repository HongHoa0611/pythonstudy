{
 "cells": [
  {
   "cell_type": "code",
   "execution_count": null,
   "id": "198ce40a-f853-4ffd-8ebb-ec99a1eb1802",
   "metadata": {},
   "outputs": [],
   "source": []
  },
  {
   "cell_type": "code",
   "execution_count": 2,
   "id": "7c083b58-685b-4c1b-ad12-c983fadf3fc4",
   "metadata": {},
   "outputs": [
    {
     "name": "stdin",
     "output_type": "stream",
     "text": [
      "nhập vào chuỗi:  ken le\n"
     ]
    },
    {
     "name": "stdout",
     "output_type": "stream",
     "text": [
      "k, e, n,  , l, e, "
     ]
    }
   ],
   "source": [
    "chuoi = input('nhập vào chuỗi: ')\n",
    "\n",
    "for ki_tu in chuoi:\n",
    "    print(ki_tu, end=\", \")"
   ]
  },
  {
   "cell_type": "code",
   "execution_count": 3,
   "id": "30f0c316-9f07-46b6-be01-69c97ab89c7f",
   "metadata": {},
   "outputs": [
    {
     "name": "stdout",
     "output_type": "stream",
     "text": [
      "cam\n",
      "quýt\n",
      "True\n",
      "2023\n"
     ]
    }
   ],
   "source": [
    "mang = ['cam', \"quýt\", True, 2023]\n",
    "for phan_tu in mang:\n",
    "    print(phan_tu)"
   ]
  },
  {
   "cell_type": "code",
   "execution_count": 6,
   "id": "84b66a1c-f893-4a5f-93c9-cff034b73d99",
   "metadata": {},
   "outputs": [
    {
     "name": "stdout",
     "output_type": "stream",
     "text": [
      "[1, 2, 3, 4, 5, 6, 7, 8, 9, 10, 11, 12, 13, 14, 15, 16, 17, 18, 19]\n",
      "[1, 3, 5, 7, 9, 11, 13, 15, 17, 19]\n",
      "[20, 18, 16, 14, 12, 10, 8, 6, 4, 2]\n"
     ]
    }
   ],
   "source": [
    "#ví dụ hàm range()\n",
    "print(list(range(1,20)))\n",
    "print(list(range(1,20,2))) #list là ép kiểu liệt kê #kết quả sẽ ko đạt được giá trị end\n",
    "print(list(range(20,1, -2)))\n",
    "print(list(range(20))) #nếu ko điền giá trị start thì giá trị start default =0\n",
    "\n",
    "#bắt buộc phải có end"
   ]
  },
  {
   "cell_type": "code",
   "execution_count": 7,
   "id": "d49543cd-bcc2-4335-ad0e-8ff1b3773389",
   "metadata": {},
   "outputs": [
    {
     "name": "stdout",
     "output_type": "stream",
     "text": [
      "5\n",
      "[0, 1, 2, 3, 4]\n",
      "0 19\n",
      "1 23\n",
      "2 49\n",
      "3 777\n",
      "4 0\n"
     ]
    }
   ],
   "source": [
    "mang = [19, 23, 49, 777, 0]\n",
    "print(len(mang)) #số lượng phần tử #chỉ có giá trị end là 5\n",
    "print(list(range(len(mang))))\n",
    "\n",
    "#in ra vị trí (index) + giá trị (value)\n",
    "for index in range(len(mang)):\n",
    "    print(index, mang[index])"
   ]
  },
  {
   "cell_type": "code",
   "execution_count": 11,
   "id": "d50798cb-fd2a-4c6f-9e5a-42c58c135a31",
   "metadata": {},
   "outputs": [
    {
     "name": "stdout",
     "output_type": "stream",
     "text": [
      "1 a,b,c,2 a,b,c,3 a,b,c,\n",
      "1 a,b,c 2 a,b,c 3 a,b,c "
     ]
    }
   ],
   "source": [
    "#slide lặp lồng\n",
    "num_list = [1, 2, 3]\n",
    "alpha_list = ['a', 'b', 'c']\n",
    "for number in num_list:\n",
    "    print(number, end=' ')\n",
    "    for letter in alpha_list:\n",
    "        print (letter, end=',')\n",
    "print ()\n",
    "\n",
    "#cách đơn giản\n",
    "for number in num_list:\n",
    "    print(number, ','.join(alpha_list), end=' ')"
   ]
  },
  {
   "cell_type": "code",
   "execution_count": 1,
   "id": "f135f6ac-cfa9-4b63-83fa-bd17fbe3d4e3",
   "metadata": {},
   "outputs": [
    {
     "name": "stdout",
     "output_type": "stream",
     "text": [
      "1, a\n",
      "1, b\n",
      "1, c\n",
      "2, a\n",
      "2, b\n",
      "2, c\n",
      "3, a\n",
      "3, b\n",
      "3, c\n"
     ]
    }
   ],
   "source": [
    "num_list = [1, 2, 3]\n",
    "alpha_list = ['a', 'b', 'c']\n",
    "for number in num_list:\n",
    "    for letter in alpha_list:\n",
    "        print(f\"{number}, {letter}\")"
   ]
  },
  {
   "cell_type": "code",
   "execution_count": null,
   "id": "424b53dd-1b28-4b10-a5ca-e7fb5072a3ba",
   "metadata": {},
   "outputs": [],
   "source": [
    "so = 1\n",
    "while so <=15:\n",
    "    if so % 12 == 0:\n",
    "        break\n",
    "    elif so % 3 == 0:\n",
    "        continue\n",
    "        so += 1\n",
    "else:\n",
    "    print ('END')"
   ]
  },
  {
   "cell_type": "code",
   "execution_count": null,
   "id": "c260ee20-4020-4b48-81a5-0cd3822010e6",
   "metadata": {},
   "outputs": [],
   "source": []
  }
 ],
 "metadata": {
  "kernelspec": {
   "display_name": "Python 3 (ipykernel)",
   "language": "python",
   "name": "python3"
  },
  "language_info": {
   "codemirror_mode": {
    "name": "ipython",
    "version": 3
   },
   "file_extension": ".py",
   "mimetype": "text/x-python",
   "name": "python",
   "nbconvert_exporter": "python",
   "pygments_lexer": "ipython3",
   "version": "3.11.5"
  }
 },
 "nbformat": 4,
 "nbformat_minor": 5
}
