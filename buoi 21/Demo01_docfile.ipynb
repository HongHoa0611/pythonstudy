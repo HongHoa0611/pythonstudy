{
 "cells": [
  {
   "cell_type": "code",
   "execution_count": 12,
   "id": "c8150dae-4d2d-483a-bf7e-31d495fa70e7",
   "metadata": {},
   "outputs": [
    {
     "name": "stdout",
     "output_type": "stream",
     "text": [
      "['NV001 Huy 7.2 8.3 8 8 8.5\\n', 'NV002 Ty 10 6 7 8.2 0\\n', 'NV003 Teo 7 7 7 7 7']\n",
      "NV001 Huy 7.2 8.3 8 8 8.5\n",
      "\n",
      "Đọc được và phân tách: ['NV001', 'Huy', '7.2', '8.3', '8', '8', '8.5']\n",
      "NV001 Huy 40.0\n",
      "NV002 Ty 10 6 7 8.2 0\n",
      "\n",
      "Đọc được và phân tách: ['NV002', 'Ty', '10', '6', '7', '8.2', '0']\n",
      "NV002 Ty 31.2\n",
      "NV003 Teo 7 7 7 7 7\n",
      "Đọc được và phân tách: ['NV003', 'Teo', '7', '7', '7', '7', '7']\n",
      "NV003 Teo 35.0\n"
     ]
    }
   ],
   "source": [
    "myfile = open(\"new.txt\", encoding=\"utf8\") #encoding=\"utf8\"để ko ra tiếng tàu\n",
    "#Đọc file\n",
    "lines = myfile.readlines() #readline=đọc 1 dòng\n",
    "print(lines)\n",
    "myfile.close()\n",
    "\n",
    "for line in lines:\n",
    "    print(line)\n",
    "#từ dòng đổi thành mảng\n",
    "    data = line.split()\n",
    "    print(\"Đọc được và phân tách:\",data)\n",
    "    hours = list(map(lambda item: float(item),data[2:])) #biến mảng từ chuỗi thành số từ phần tử số 2\n",
    "    #tính tổng giờ làm.\n",
    "    print(data[0],data[1],sum(hours))"
   ]
  },
  {
   "cell_type": "code",
   "execution_count": 11,
   "id": "65a3f27e-0b88-4788-9059-ca32f1506417",
   "metadata": {},
   "outputs": [
    {
     "name": "stdout",
     "output_type": "stream",
     "text": [
      "['NV001 Huy 7.2 8.3 8 8 8.5\\n', 'NV002 Ty 10 6 7 8.2 0\\n', 'NV003 Teo 7 7 7 7 7']\n",
      "NV001 Huy 7.2 8.3 8 8 8.5\n",
      "\n",
      "['NV001', 'Huy', '7.2', '8.3', '8', '8', '8.5']\n",
      "['7.2', '8.3', '8', '8', '8.5']\n",
      "NV002 Ty 10 6 7 8.2 0\n",
      "\n",
      "['NV002', 'Ty', '10', '6', '7', '8.2', '0']\n",
      "['10', '6', '7', '8.2', '0']\n",
      "NV003 Teo 7 7 7 7 7\n",
      "['NV003', 'Teo', '7', '7', '7', '7', '7']\n",
      "['7', '7', '7', '7', '7']\n",
      "Tổng giờ làm viên của nhân viên Huy là 40.0\n",
      "Tổng giờ làm viên của nhân viên Ty là 31.2\n",
      "Tổng giờ làm viên của nhân viên Teo là 35.0\n"
     ]
    }
   ],
   "source": [
    "myfile = open(\"new.txt\")\n",
    "#Đọc file\n",
    "lines = myfile.readlines() #readline=đọc 1 dòng\n",
    "print(lines)\n",
    "myfile.close()\n",
    "\n",
    "for line in lines:\n",
    "    print(line)\n",
    "#từ dòng đổi thành mảng\n",
    "    data = line.split()\n",
    "    print(data)\n",
    "    hours = data[2:]\n",
    "    print(hours)\n",
    "#tính tổng giờ làm. biến mảng từ chuỗi thành số\n",
    "\n",
    "for line in lines:\n",
    "    # print(line)\n",
    "    data = line.split( )\n",
    "    # print(data)\n",
    "    hours = data[2:]\n",
    "    # print(hours)\n",
    "    tonggio = 0\n",
    "    for i in data[2:]:\n",
    "        tonggio += float(i)\n",
    "    print(f\"Tổng giờ làm viên của nhân viên {data[1]} là {tonggio}\")"
   ]
  },
  {
   "cell_type": "code",
   "execution_count": 15,
   "id": "0b1896fe-f588-4c77-9348-88f5ef75bb4b",
   "metadata": {},
   "outputs": [],
   "source": [
    "#Demo -Gh file 1\n",
    "myfile = open(\"mydata.txt\", \"w\", encoding=\"utf8\")\n",
    "myfile.write(\"DEMO WRITE CONTENT TO FILE\\n\")\n",
    "myfile.write(\"END\")\n",
    "myfile.close()"
   ]
  },
  {
   "cell_type": "code",
   "execution_count": 16,
   "id": "66f510a7-028e-4ff8-af29-26e9d3d19110",
   "metadata": {},
   "outputs": [
    {
     "name": "stdin",
     "output_type": "stream",
     "text": [
      "Nhập tên file: filenhapvao\n",
      "nhập nội dung: file này cứ nhập là sẽ tự động save\n"
     ]
    }
   ],
   "source": [
    "#demo2 -Nhập tên file, nhập nội dung rồi ghi xuống file với tên vừa nhập\n",
    "ten_file = input(\"Nhập tên file:\").strip()\n",
    "if ten_file !=\"\":\n",
    "    noi_dung = input(\"nhập nội dung:\")\n",
    "    with open(ten_file, \"w\", encoding=\"utf8\") as myfile:\n",
    "        myfile.write(noi_dung)"
   ]
  },
  {
   "cell_type": "code",
   "execution_count": null,
   "id": "54833773-4f72-4efd-a8a7-446a8c2469cd",
   "metadata": {},
   "outputs": [],
   "source": [
    "'''open(\"đường_dẫn_tới_file\", mode, encoding=\"bảng mã\")\n",
    "Kiểu/mode:\n",
    "r: chỉ đọc\n",
    "w: tạo mới\n",
    "a: thêm vào'''"
   ]
  },
  {
   "cell_type": "code",
   "execution_count": 23,
   "id": "18432beb-0874-40fc-bb6e-1c5f62fec3b7",
   "metadata": {},
   "outputs": [],
   "source": [
    "#ghi file json\n",
    "import json\n",
    "data = [\n",
    "    {\n",
    "        \"ma\": \"HY001\",\n",
    "        \"ten\": \"Lý Tiểu Mẫn\",\n",
    "        \"diem\": 9.7,\n",
    "        \"gioi_tinh\": True\n",
    "    },\n",
    "    {\n",
    "        \"ma\": \"HY002\",\n",
    "        \"ten\": \"Lý Tiểu Long\",\n",
    "        \"diem\": 8,\n",
    "        \"gioi_tinh\": False\n",
    "    }\n",
    "]\n",
    "with open(\"hocvien.json\", \"w\", encoding=\"utf8\") as myfile:\n",
    "    json.dump(data, myfile, indent=4) #indent là lệnh để xuống dòng"
   ]
  },
  {
   "cell_type": "code",
   "execution_count": 22,
   "id": "4962134b-254b-4285-9b42-8d9fdcacb950",
   "metadata": {},
   "outputs": [
    {
     "ename": "JSONDecodeError",
     "evalue": "Expecting value: line 1 column 1 (char 0)",
     "output_type": "error",
     "traceback": [
      "\u001b[1;31m---------------------------------------------------------------------------\u001b[0m",
      "\u001b[1;31mJSONDecodeError\u001b[0m                           Traceback (most recent call last)",
      "Cell \u001b[1;32mIn[22], line 3\u001b[0m\n\u001b[0;32m      1\u001b[0m \u001b[38;5;28;01mimport\u001b[39;00m \u001b[38;5;21;01mjson\u001b[39;00m\n\u001b[0;32m      2\u001b[0m \u001b[38;5;28;01mwith\u001b[39;00m \u001b[38;5;28mopen\u001b[39m(\u001b[38;5;124m\"\u001b[39m\u001b[38;5;124mhocvien.json\u001b[39m\u001b[38;5;124m\"\u001b[39m, \u001b[38;5;124m\"\u001b[39m\u001b[38;5;124mr\u001b[39m\u001b[38;5;124m\"\u001b[39m, encoding\u001b[38;5;241m=\u001b[39m\u001b[38;5;124m\"\u001b[39m\u001b[38;5;124mutf8\u001b[39m\u001b[38;5;124m\"\u001b[39m) \u001b[38;5;28;01mas\u001b[39;00m myfile:\n\u001b[1;32m----> 3\u001b[0m     data \u001b[38;5;241m=\u001b[39m \u001b[43mjson\u001b[49m\u001b[38;5;241;43m.\u001b[39;49m\u001b[43mload\u001b[49m\u001b[43m(\u001b[49m\u001b[43mmyfile\u001b[49m\u001b[43m)\u001b[49m\n\u001b[0;32m      4\u001b[0m     \u001b[38;5;28mprint\u001b[39m(data)\n",
      "File \u001b[1;32m~\\AppData\\Local\\Programs\\Python\\Python311\\Lib\\json\\__init__.py:293\u001b[0m, in \u001b[0;36mload\u001b[1;34m(fp, cls, object_hook, parse_float, parse_int, parse_constant, object_pairs_hook, **kw)\u001b[0m\n\u001b[0;32m    274\u001b[0m \u001b[38;5;28;01mdef\u001b[39;00m \u001b[38;5;21mload\u001b[39m(fp, \u001b[38;5;241m*\u001b[39m, \u001b[38;5;28mcls\u001b[39m\u001b[38;5;241m=\u001b[39m\u001b[38;5;28;01mNone\u001b[39;00m, object_hook\u001b[38;5;241m=\u001b[39m\u001b[38;5;28;01mNone\u001b[39;00m, parse_float\u001b[38;5;241m=\u001b[39m\u001b[38;5;28;01mNone\u001b[39;00m,\n\u001b[0;32m    275\u001b[0m         parse_int\u001b[38;5;241m=\u001b[39m\u001b[38;5;28;01mNone\u001b[39;00m, parse_constant\u001b[38;5;241m=\u001b[39m\u001b[38;5;28;01mNone\u001b[39;00m, object_pairs_hook\u001b[38;5;241m=\u001b[39m\u001b[38;5;28;01mNone\u001b[39;00m, \u001b[38;5;241m*\u001b[39m\u001b[38;5;241m*\u001b[39mkw):\n\u001b[0;32m    276\u001b[0m \u001b[38;5;250m    \u001b[39m\u001b[38;5;124;03m\"\"\"Deserialize ``fp`` (a ``.read()``-supporting file-like object containing\u001b[39;00m\n\u001b[0;32m    277\u001b[0m \u001b[38;5;124;03m    a JSON document) to a Python object.\u001b[39;00m\n\u001b[0;32m    278\u001b[0m \n\u001b[1;32m   (...)\u001b[0m\n\u001b[0;32m    291\u001b[0m \u001b[38;5;124;03m    kwarg; otherwise ``JSONDecoder`` is used.\u001b[39;00m\n\u001b[0;32m    292\u001b[0m \u001b[38;5;124;03m    \"\"\"\u001b[39;00m\n\u001b[1;32m--> 293\u001b[0m     \u001b[38;5;28;01mreturn\u001b[39;00m \u001b[43mloads\u001b[49m\u001b[43m(\u001b[49m\u001b[43mfp\u001b[49m\u001b[38;5;241;43m.\u001b[39;49m\u001b[43mread\u001b[49m\u001b[43m(\u001b[49m\u001b[43m)\u001b[49m\u001b[43m,\u001b[49m\n\u001b[0;32m    294\u001b[0m \u001b[43m        \u001b[49m\u001b[38;5;28;43mcls\u001b[39;49m\u001b[38;5;241;43m=\u001b[39;49m\u001b[38;5;28;43mcls\u001b[39;49m\u001b[43m,\u001b[49m\u001b[43m \u001b[49m\u001b[43mobject_hook\u001b[49m\u001b[38;5;241;43m=\u001b[39;49m\u001b[43mobject_hook\u001b[49m\u001b[43m,\u001b[49m\n\u001b[0;32m    295\u001b[0m \u001b[43m        \u001b[49m\u001b[43mparse_float\u001b[49m\u001b[38;5;241;43m=\u001b[39;49m\u001b[43mparse_float\u001b[49m\u001b[43m,\u001b[49m\u001b[43m \u001b[49m\u001b[43mparse_int\u001b[49m\u001b[38;5;241;43m=\u001b[39;49m\u001b[43mparse_int\u001b[49m\u001b[43m,\u001b[49m\n\u001b[0;32m    296\u001b[0m \u001b[43m        \u001b[49m\u001b[43mparse_constant\u001b[49m\u001b[38;5;241;43m=\u001b[39;49m\u001b[43mparse_constant\u001b[49m\u001b[43m,\u001b[49m\u001b[43m \u001b[49m\u001b[43mobject_pairs_hook\u001b[49m\u001b[38;5;241;43m=\u001b[39;49m\u001b[43mobject_pairs_hook\u001b[49m\u001b[43m,\u001b[49m\u001b[43m \u001b[49m\u001b[38;5;241;43m*\u001b[39;49m\u001b[38;5;241;43m*\u001b[39;49m\u001b[43mkw\u001b[49m\u001b[43m)\u001b[49m\n",
      "File \u001b[1;32m~\\AppData\\Local\\Programs\\Python\\Python311\\Lib\\json\\__init__.py:346\u001b[0m, in \u001b[0;36mloads\u001b[1;34m(s, cls, object_hook, parse_float, parse_int, parse_constant, object_pairs_hook, **kw)\u001b[0m\n\u001b[0;32m    341\u001b[0m     s \u001b[38;5;241m=\u001b[39m s\u001b[38;5;241m.\u001b[39mdecode(detect_encoding(s), \u001b[38;5;124m'\u001b[39m\u001b[38;5;124msurrogatepass\u001b[39m\u001b[38;5;124m'\u001b[39m)\n\u001b[0;32m    343\u001b[0m \u001b[38;5;28;01mif\u001b[39;00m (\u001b[38;5;28mcls\u001b[39m \u001b[38;5;129;01mis\u001b[39;00m \u001b[38;5;28;01mNone\u001b[39;00m \u001b[38;5;129;01mand\u001b[39;00m object_hook \u001b[38;5;129;01mis\u001b[39;00m \u001b[38;5;28;01mNone\u001b[39;00m \u001b[38;5;129;01mand\u001b[39;00m\n\u001b[0;32m    344\u001b[0m         parse_int \u001b[38;5;129;01mis\u001b[39;00m \u001b[38;5;28;01mNone\u001b[39;00m \u001b[38;5;129;01mand\u001b[39;00m parse_float \u001b[38;5;129;01mis\u001b[39;00m \u001b[38;5;28;01mNone\u001b[39;00m \u001b[38;5;129;01mand\u001b[39;00m\n\u001b[0;32m    345\u001b[0m         parse_constant \u001b[38;5;129;01mis\u001b[39;00m \u001b[38;5;28;01mNone\u001b[39;00m \u001b[38;5;129;01mand\u001b[39;00m object_pairs_hook \u001b[38;5;129;01mis\u001b[39;00m \u001b[38;5;28;01mNone\u001b[39;00m \u001b[38;5;129;01mand\u001b[39;00m \u001b[38;5;129;01mnot\u001b[39;00m kw):\n\u001b[1;32m--> 346\u001b[0m     \u001b[38;5;28;01mreturn\u001b[39;00m \u001b[43m_default_decoder\u001b[49m\u001b[38;5;241;43m.\u001b[39;49m\u001b[43mdecode\u001b[49m\u001b[43m(\u001b[49m\u001b[43ms\u001b[49m\u001b[43m)\u001b[49m\n\u001b[0;32m    347\u001b[0m \u001b[38;5;28;01mif\u001b[39;00m \u001b[38;5;28mcls\u001b[39m \u001b[38;5;129;01mis\u001b[39;00m \u001b[38;5;28;01mNone\u001b[39;00m:\n\u001b[0;32m    348\u001b[0m     \u001b[38;5;28mcls\u001b[39m \u001b[38;5;241m=\u001b[39m JSONDecoder\n",
      "File \u001b[1;32m~\\AppData\\Local\\Programs\\Python\\Python311\\Lib\\json\\decoder.py:337\u001b[0m, in \u001b[0;36mJSONDecoder.decode\u001b[1;34m(self, s, _w)\u001b[0m\n\u001b[0;32m    332\u001b[0m \u001b[38;5;28;01mdef\u001b[39;00m \u001b[38;5;21mdecode\u001b[39m(\u001b[38;5;28mself\u001b[39m, s, _w\u001b[38;5;241m=\u001b[39mWHITESPACE\u001b[38;5;241m.\u001b[39mmatch):\n\u001b[0;32m    333\u001b[0m \u001b[38;5;250m    \u001b[39m\u001b[38;5;124;03m\"\"\"Return the Python representation of ``s`` (a ``str`` instance\u001b[39;00m\n\u001b[0;32m    334\u001b[0m \u001b[38;5;124;03m    containing a JSON document).\u001b[39;00m\n\u001b[0;32m    335\u001b[0m \n\u001b[0;32m    336\u001b[0m \u001b[38;5;124;03m    \"\"\"\u001b[39;00m\n\u001b[1;32m--> 337\u001b[0m     obj, end \u001b[38;5;241m=\u001b[39m \u001b[38;5;28;43mself\u001b[39;49m\u001b[38;5;241;43m.\u001b[39;49m\u001b[43mraw_decode\u001b[49m\u001b[43m(\u001b[49m\u001b[43ms\u001b[49m\u001b[43m,\u001b[49m\u001b[43m \u001b[49m\u001b[43midx\u001b[49m\u001b[38;5;241;43m=\u001b[39;49m\u001b[43m_w\u001b[49m\u001b[43m(\u001b[49m\u001b[43ms\u001b[49m\u001b[43m,\u001b[49m\u001b[43m \u001b[49m\u001b[38;5;241;43m0\u001b[39;49m\u001b[43m)\u001b[49m\u001b[38;5;241;43m.\u001b[39;49m\u001b[43mend\u001b[49m\u001b[43m(\u001b[49m\u001b[43m)\u001b[49m\u001b[43m)\u001b[49m\n\u001b[0;32m    338\u001b[0m     end \u001b[38;5;241m=\u001b[39m _w(s, end)\u001b[38;5;241m.\u001b[39mend()\n\u001b[0;32m    339\u001b[0m     \u001b[38;5;28;01mif\u001b[39;00m end \u001b[38;5;241m!=\u001b[39m \u001b[38;5;28mlen\u001b[39m(s):\n",
      "File \u001b[1;32m~\\AppData\\Local\\Programs\\Python\\Python311\\Lib\\json\\decoder.py:355\u001b[0m, in \u001b[0;36mJSONDecoder.raw_decode\u001b[1;34m(self, s, idx)\u001b[0m\n\u001b[0;32m    353\u001b[0m     obj, end \u001b[38;5;241m=\u001b[39m \u001b[38;5;28mself\u001b[39m\u001b[38;5;241m.\u001b[39mscan_once(s, idx)\n\u001b[0;32m    354\u001b[0m \u001b[38;5;28;01mexcept\u001b[39;00m \u001b[38;5;167;01mStopIteration\u001b[39;00m \u001b[38;5;28;01mas\u001b[39;00m err:\n\u001b[1;32m--> 355\u001b[0m     \u001b[38;5;28;01mraise\u001b[39;00m JSONDecodeError(\u001b[38;5;124m\"\u001b[39m\u001b[38;5;124mExpecting value\u001b[39m\u001b[38;5;124m\"\u001b[39m, s, err\u001b[38;5;241m.\u001b[39mvalue) \u001b[38;5;28;01mfrom\u001b[39;00m \u001b[38;5;28;01mNone\u001b[39;00m\n\u001b[0;32m    356\u001b[0m \u001b[38;5;28;01mreturn\u001b[39;00m obj, end\n",
      "\u001b[1;31mJSONDecodeError\u001b[0m: Expecting value: line 1 column 1 (char 0)"
     ]
    }
   ],
   "source": [
    "import json\n",
    "with open(\"hocvien.json\", \"r\", encoding=\"utf8\") as myfile:\n",
    "    data = json.load(myfile)\n",
    "    print(data)"
   ]
  },
  {
   "cell_type": "code",
   "execution_count": null,
   "id": "9df86c31-3b14-4c5c-9eab-b8afab1df816",
   "metadata": {},
   "outputs": [],
   "source": []
  }
 ],
 "metadata": {
  "kernelspec": {
   "display_name": "Python 3 (ipykernel)",
   "language": "python",
   "name": "python3"
  },
  "language_info": {
   "codemirror_mode": {
    "name": "ipython",
    "version": 3
   },
   "file_extension": ".py",
   "mimetype": "text/x-python",
   "name": "python",
   "nbconvert_exporter": "python",
   "pygments_lexer": "ipython3",
   "version": "3.11.5"
  }
 },
 "nbformat": 4,
 "nbformat_minor": 5
}
