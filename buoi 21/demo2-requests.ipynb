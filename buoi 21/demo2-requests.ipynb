{
 "cells": [
  {
   "cell_type": "code",
   "execution_count": 10,
   "id": "efd891b5-c20c-4ae7-a316-26a081d3ed15",
   "metadata": {},
   "outputs": [
    {
     "name": "stdout",
     "output_type": "stream",
     "text": [
      "1 iPhone 9 549 Apple\n",
      "2 iPhone X 899 Apple\n",
      "3 Samsung Universe 9 1249 Samsung\n",
      "4 OPPOF19 280 OPPO\n",
      "5 Huawei P30 499 Huawei\n",
      "6 MacBook Pro 1749 Apple\n",
      "7 Samsung Galaxy Book 1499 Samsung\n",
      "8 Microsoft Surface Laptop 4 1499 Microsoft Surface\n",
      "9 Infinix INBOOK 1099 Infinix\n",
      "10 HP Pavilion 15-DK1056WM 1099 HP Pavilion\n",
      "11 perfume Oil 13 Impression of Acqua Di Gio\n",
      "12 Brown Perfume 40 Royal_Mirage\n",
      "13 Fog Scent Xpressio Perfume 13 Fog Scent Xpressio\n",
      "14 Non-Alcoholic Concentrated Perfume Oil 120 Al Munakh\n",
      "15 Eau De Perfume Spray 30 Lord - Al-Rehab\n",
      "16 Hyaluronic Acid Serum 19 L'Oreal Paris\n",
      "17 Tree Oil 30ml 12 Hemani Tea\n",
      "18 Oil Free Moisturizer 100ml 40 Dermive\n",
      "19 Skin Beauty Serum. 46 ROREC White Rice\n",
      "20 Freckle Treatment Cream- 15gm 70 Fair & Clear\n",
      "21 - Daal Masoor 500 grams 20 Saaf & Khaas\n",
      "22 Elbow Macaroni - 400 gm 14 Bake Parlor Big\n",
      "23 Orange Essence Food Flavou 14 Baking Food Items\n",
      "24 cereals muesli fruit nuts 46 fauji\n",
      "25 Gulab Powder 50 Gram 70 Dry Rose\n",
      "26 Plant Hanger For Home 41 Boho Decor\n",
      "27 Flying Wooden Bird 51 Flying Wooden\n",
      "28 3D Embellishment Art Lamp 20 LED Lights\n",
      "29 Handcraft Chinese style 60 luxury palace\n",
      "30 Key Holder 30 Golden\n",
      "[{'masp': 1, 'tensp': 'iPhone 9', 'dongia': 549, 'loai': 'Apple'}, {'masp': 2, 'tensp': 'iPhone X', 'dongia': 899, 'loai': 'Apple'}, {'masp': 3, 'tensp': 'Samsung Universe 9', 'dongia': 1249, 'loai': 'Samsung'}, {'masp': 4, 'tensp': 'OPPOF19', 'dongia': 280, 'loai': 'OPPO'}, {'masp': 5, 'tensp': 'Huawei P30', 'dongia': 499, 'loai': 'Huawei'}, {'masp': 6, 'tensp': 'MacBook Pro', 'dongia': 1749, 'loai': 'Apple'}, {'masp': 7, 'tensp': 'Samsung Galaxy Book', 'dongia': 1499, 'loai': 'Samsung'}, {'masp': 8, 'tensp': 'Microsoft Surface Laptop 4', 'dongia': 1499, 'loai': 'Microsoft Surface'}, {'masp': 9, 'tensp': 'Infinix INBOOK', 'dongia': 1099, 'loai': 'Infinix'}, {'masp': 10, 'tensp': 'HP Pavilion 15-DK1056WM', 'dongia': 1099, 'loai': 'HP Pavilion'}, {'masp': 11, 'tensp': 'perfume Oil', 'dongia': 13, 'loai': 'Impression of Acqua Di Gio'}, {'masp': 12, 'tensp': 'Brown Perfume', 'dongia': 40, 'loai': 'Royal_Mirage'}, {'masp': 13, 'tensp': 'Fog Scent Xpressio Perfume', 'dongia': 13, 'loai': 'Fog Scent Xpressio'}, {'masp': 14, 'tensp': 'Non-Alcoholic Concentrated Perfume Oil', 'dongia': 120, 'loai': 'Al Munakh'}, {'masp': 15, 'tensp': 'Eau De Perfume Spray', 'dongia': 30, 'loai': 'Lord - Al-Rehab'}, {'masp': 16, 'tensp': 'Hyaluronic Acid Serum', 'dongia': 19, 'loai': \"L'Oreal Paris\"}, {'masp': 17, 'tensp': 'Tree Oil 30ml', 'dongia': 12, 'loai': 'Hemani Tea'}, {'masp': 18, 'tensp': 'Oil Free Moisturizer 100ml', 'dongia': 40, 'loai': 'Dermive'}, {'masp': 19, 'tensp': 'Skin Beauty Serum.', 'dongia': 46, 'loai': 'ROREC White Rice'}, {'masp': 20, 'tensp': 'Freckle Treatment Cream- 15gm', 'dongia': 70, 'loai': 'Fair & Clear'}, {'masp': 21, 'tensp': '- Daal Masoor 500 grams', 'dongia': 20, 'loai': 'Saaf & Khaas'}, {'masp': 22, 'tensp': 'Elbow Macaroni - 400 gm', 'dongia': 14, 'loai': 'Bake Parlor Big'}, {'masp': 23, 'tensp': 'Orange Essence Food Flavou', 'dongia': 14, 'loai': 'Baking Food Items'}, {'masp': 24, 'tensp': 'cereals muesli fruit nuts', 'dongia': 46, 'loai': 'fauji'}, {'masp': 25, 'tensp': 'Gulab Powder 50 Gram', 'dongia': 70, 'loai': 'Dry Rose'}, {'masp': 26, 'tensp': 'Plant Hanger For Home', 'dongia': 41, 'loai': 'Boho Decor'}, {'masp': 27, 'tensp': 'Flying Wooden Bird', 'dongia': 51, 'loai': 'Flying Wooden'}, {'masp': 28, 'tensp': '3D Embellishment Art Lamp', 'dongia': 20, 'loai': 'LED Lights'}, {'masp': 29, 'tensp': 'Handcraft Chinese style', 'dongia': 60, 'loai': 'luxury palace'}, {'masp': 30, 'tensp': 'Key Holder', 'dongia': 30, 'loai': 'Golden'}]\n"
     ]
    }
   ],
   "source": [
    "#demo call API\n",
    "import requests\n",
    "\n",
    "r = requests.get(\"https://dummyjson.com/products\")\n",
    "if r.status_code == 200: #success\n",
    "    data = []\n",
    "    for item in r.json()[\"products\"]:\n",
    "        print(item[\"id\"], item[\"title\"], item[\"price\"], item[\"brand\"])\n",
    "        data.append({\n",
    "            \"masp\": item[\"id\"],\n",
    "            \"tensp\": item[\"title\"],\n",
    "            \"dongia\": item[\"price\"],\n",
    "            \"loai\": item[\"brand\"]\n",
    "        })\n",
    "\n",
    "    print(data)\n",
    "    with open(\"products.json\", \"w\", encoding=\"utf8\") as file:\n",
    "        json.dump(data, file, indent=4)"
   ]
  },
  {
   "cell_type": "code",
   "execution_count": 12,
   "id": "128e747e-d543-4a90-9396-a5019fabd329",
   "metadata": {},
   "outputs": [
    {
     "ename": "SyntaxError",
     "evalue": "invalid syntax (3006338544.py, line 1)",
     "output_type": "error",
     "traceback": [
      "\u001b[1;36m  Cell \u001b[1;32mIn[12], line 1\u001b[1;36m\u001b[0m\n\u001b[1;33m    result = request.get(\"https://www.tomocube.com\"):\u001b[0m\n\u001b[1;37m                                                    ^\u001b[0m\n\u001b[1;31mSyntaxError\u001b[0m\u001b[1;31m:\u001b[0m invalid syntax\n"
     ]
    }
   ],
   "source": [
    "result = request.get(\"https://www.tomocube.com\"):\n",
    "    print(result.text)"
   ]
  },
  {
   "cell_type": "code",
   "execution_count": null,
   "id": "dc93f72f-b429-4a39-b41e-44bd80879917",
   "metadata": {},
   "outputs": [],
   "source": []
  }
 ],
 "metadata": {
  "kernelspec": {
   "display_name": "Python 3 (ipykernel)",
   "language": "python",
   "name": "python3"
  },
  "language_info": {
   "codemirror_mode": {
    "name": "ipython",
    "version": 3
   },
   "file_extension": ".py",
   "mimetype": "text/x-python",
   "name": "python",
   "nbconvert_exporter": "python",
   "pygments_lexer": "ipython3",
   "version": "3.11.5"
  }
 },
 "nbformat": 4,
 "nbformat_minor": 5
}
