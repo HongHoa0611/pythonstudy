{
 "cells": [
  {
   "cell_type": "code",
   "execution_count": 12,
   "id": "c8150dae-4d2d-483a-bf7e-31d495fa70e7",
   "metadata": {},
   "outputs": [
    {
     "name": "stdout",
     "output_type": "stream",
     "text": [
      "['NV001 Huy 7.2 8.3 8 8 8.5\\n', 'NV002 Ty 10 6 7 8.2 0\\n', 'NV003 Teo 7 7 7 7 7']\n",
      "NV001 Huy 7.2 8.3 8 8 8.5\n",
      "\n",
      "Đọc được và phân tách: ['NV001', 'Huy', '7.2', '8.3', '8', '8', '8.5']\n",
      "NV001 Huy 40.0\n",
      "NV002 Ty 10 6 7 8.2 0\n",
      "\n",
      "Đọc được và phân tách: ['NV002', 'Ty', '10', '6', '7', '8.2', '0']\n",
      "NV002 Ty 31.2\n",
      "NV003 Teo 7 7 7 7 7\n",
      "Đọc được và phân tách: ['NV003', 'Teo', '7', '7', '7', '7', '7']\n",
      "NV003 Teo 35.0\n"
     ]
    }
   ],
   "source": [
    "myfile = open(\"new.txt\", encoding=\"utf8\") #encoding=\"utf8\"để ko ra tiếng tàu\n",
    "#Đọc file\n",
    "lines = myfile.readlines() #readline=đọc 1 dòng\n",
    "print(lines)\n",
    "myfile.close()\n",
    "\n",
    "for line in lines:\n",
    "    print(line)\n",
    "#từ dòng đổi thành mảng\n",
    "    data = line.split()\n",
    "    print(\"Đọc được và phân tách:\",data)\n",
    "    hours = list(map(lambda item: float(item),data[2:])) #biến mảng từ chuỗi thành số từ phần tử số 2\n",
    "    #tính tổng giờ làm.\n",
    "    print(data[0],data[1],sum(hours))"
   ]
  },
  {
   "cell_type": "code",
   "execution_count": 11,
   "id": "65a3f27e-0b88-4788-9059-ca32f1506417",
   "metadata": {},
   "outputs": [
    {
     "name": "stdout",
     "output_type": "stream",
     "text": [
      "['NV001 Huy 7.2 8.3 8 8 8.5\\n', 'NV002 Ty 10 6 7 8.2 0\\n', 'NV003 Teo 7 7 7 7 7']\n",
      "NV001 Huy 7.2 8.3 8 8 8.5\n",
      "\n",
      "['NV001', 'Huy', '7.2', '8.3', '8', '8', '8.5']\n",
      "['7.2', '8.3', '8', '8', '8.5']\n",
      "NV002 Ty 10 6 7 8.2 0\n",
      "\n",
      "['NV002', 'Ty', '10', '6', '7', '8.2', '0']\n",
      "['10', '6', '7', '8.2', '0']\n",
      "NV003 Teo 7 7 7 7 7\n",
      "['NV003', 'Teo', '7', '7', '7', '7', '7']\n",
      "['7', '7', '7', '7', '7']\n",
      "Tổng giờ làm viên của nhân viên Huy là 40.0\n",
      "Tổng giờ làm viên của nhân viên Ty là 31.2\n",
      "Tổng giờ làm viên của nhân viên Teo là 35.0\n"
     ]
    }
   ],
   "source": [
    "myfile = open(\"new.txt\")\n",
    "#Đọc file\n",
    "lines = myfile.readlines() #readline=đọc 1 dòng\n",
    "print(lines)\n",
    "myfile.close()\n",
    "\n",
    "for line in lines:\n",
    "    print(line)\n",
    "#từ dòng đổi thành mảng\n",
    "    data = line.split()\n",
    "    print(data)\n",
    "    hours = data[2:]\n",
    "    print(hours)\n",
    "#tính tổng giờ làm. biến mảng từ chuỗi thành số\n",
    "\n",
    "for line in lines:\n",
    "    # print(line)\n",
    "    data = line.split( )\n",
    "    # print(data)\n",
    "    hours = data[2:]\n",
    "    # print(hours)\n",
    "    tonggio = 0\n",
    "    for i in data[2:]:\n",
    "        tonggio += float(i)\n",
    "    print(f\"Tổng giờ làm viên của nhân viên {data[1]} là {tonggio}\")"
   ]
  },
  {
   "cell_type": "code",
   "execution_count": 15,
   "id": "0b1896fe-f588-4c77-9348-88f5ef75bb4b",
   "metadata": {},
   "outputs": [],
   "source": [
    "#Demo -Gh file 1\n",
    "myfile = open(\"mydata.txt\", \"w\", encoding=\"utf8\")\n",
    "myfile.write(\"DEMO WRITE CONTENT TO FILE\\n\")\n",
    "myfile.write(\"END\")\n",
    "myfile.close()"
   ]
  },
  {
   "cell_type": "code",
   "execution_count": 16,
   "id": "66f510a7-028e-4ff8-af29-26e9d3d19110",
   "metadata": {},
   "outputs": [
    {
     "name": "stdin",
     "output_type": "stream",
     "text": [
      "Nhập tên file: filenhapvao\n",
      "nhập nội dung: file này cứ nhập là sẽ tự động save\n"
     ]
    }
   ],
   "source": [
    "#demo2 -Nhập tên file, nhập nội dung rồi ghi xuống file với tên vừa nhập\n",
    "ten_file = input(\"Nhập tên file:\").strip()\n",
    "if ten_file !=\"\":\n",
    "    noi_dung = input(\"nhập nội dung:\")\n",
    "    with open(ten_file, \"w\", encoding=\"utf8\") as myfile:\n",
    "        myfile.write(noi_dung)"
   ]
  },
  {
   "cell_type": "code",
   "execution_count": null,
   "id": "54833773-4f72-4efd-a8a7-446a8c2469cd",
   "metadata": {},
   "outputs": [],
   "source": [
    "'''open(\"đường_dẫn_tới_file\", mode, encoding=\"bảng mã\")\n",
    "Kiểu/mode:\n",
    "r: chỉ đọc\n",
    "w: tạo mới\n",
    "a: thêm vào'''"
   ]
  },
  {
   "cell_type": "code",
   "execution_count": 20,
   "id": "18432beb-0874-40fc-bb6e-1c5f62fec3b7",
   "metadata": {},
   "outputs": [],
   "source": [
    "#ghi file json\n",
    "import json\n",
    "data = [\n",
    "    {\n",
    "        \"ma\": \"HY001\",\n",
    "        \"ten\": \"Lý Tiểu Mẫn\",\n",
    "        \"diem\": 9.7,\n",
    "        \"gioi_tinh\": True\n",
    "    },\n",
    "    {\n",
    "        \"ma\": \"HY002\",\n",
    "        \"ten\": \"Lý Tiểu Long\",\n",
    "        \"diem\": 8,\n",
    "        \"gioi_tinh\": False\n",
    "    }\n",
    "]\n",
    "with open(\"hocvien.json\", \"w\", encoding=\"utf8\") as myfile:\n",
    "    json.dump(data, myfile, indent=4) #indent là lệnh để xuống dòng"
   ]
  },
  {
   "cell_type": "code",
   "execution_count": null,
   "id": "4962134b-254b-4285-9b42-8d9fdcacb950",
   "metadata": {},
   "outputs": [],
   "source": []
  }
 ],
 "metadata": {
  "kernelspec": {
   "display_name": "Python 3 (ipykernel)",
   "language": "python",
   "name": "python3"
  },
  "language_info": {
   "codemirror_mode": {
    "name": "ipython",
    "version": 3
   },
   "file_extension": ".py",
   "mimetype": "text/x-python",
   "name": "python",
   "nbconvert_exporter": "python",
   "pygments_lexer": "ipython3",
   "version": "3.11.5"
  }
 },
 "nbformat": 4,
 "nbformat_minor": 5
}
