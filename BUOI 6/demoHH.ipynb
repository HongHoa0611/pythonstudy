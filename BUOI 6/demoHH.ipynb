{
 "cells": [
  {
   "cell_type": "code",
   "execution_count": 1,
   "id": "6737244f-a0d0-4783-bb28-a36d8d100743",
   "metadata": {},
   "outputs": [
    {
     "name": "stdout",
     "output_type": "stream",
     "text": [
      "Python cơ bản 29 buổi\n",
      "END\n"
     ]
    }
   ],
   "source": [
    "mon_hoc='Python cơ bản'\n",
    "print(mon_hoc,29,'buổi')\n",
    "print('END')"
   ]
  },
  {
   "cell_type": "code",
   "execution_count": 2,
   "id": "7ee646f2-98f0-4e3f-8bae-c626990e78b1",
   "metadata": {},
   "outputs": [
    {
     "name": "stdout",
     "output_type": "stream",
     "text": [
      "Python cơ bản+29+buổi:END\n"
     ]
    }
   ],
   "source": [
    "mon_hoc='Python cơ bản'\n",
    "print(mon_hoc,29,'buổi',sep='+',end=':')\n",
    "print('END')"
   ]
  },
  {
   "cell_type": "code",
   "execution_count": 8,
   "id": "79347095-cc7c-47bf-8203-077c35b47210",
   "metadata": {},
   "outputs": [
    {
     "name": "stdout",
     "output_type": "stream",
     "text": [
      "chào thứ+6+True\n"
     ]
    }
   ],
   "source": [
    "thu=6\n",
    "ket_qua=True\n",
    "print(f\"chào thứ+{thu}+{ket_qua}\")"
   ]
  },
  {
   "cell_type": "code",
   "execution_count": 12,
   "id": "8b4c029d-e858-4379-b91e-73b80c0a4f5f",
   "metadata": {},
   "outputs": [
    {
     "name": "stdin",
     "output_type": "stream",
     "text": [
      "nhập số x: 6\n",
      "nhập số z: 9\n"
     ]
    },
    {
     "name": "stdout",
     "output_type": "stream",
     "text": [
      "X+Y= 15\n"
     ]
    }
   ],
   "source": [
    "x= int(input('nhập số x:'))\n",
    "y= int(input('nhập số z:'))\n",
    "print('X+Y=', x+y)"
   ]
  },
  {
   "cell_type": "code",
   "execution_count": 14,
   "id": "9fb6fba9-09f4-41e5-ac49-c4cad4a8a032",
   "metadata": {},
   "outputs": [
    {
     "name": "stdout",
     "output_type": "stream",
     "text": [
      "0.782484247490053\n",
      "10\n"
     ]
    }
   ],
   "source": [
    "#Demo random -import*\n",
    "import random #chèn module random\n",
    "print(random.random())\n",
    "print(random.randint(5,20))"
   ]
  },
  {
   "cell_type": "code",
   "execution_count": 15,
   "id": "f018d8ff-5b7a-4e07-8a51-536cc885dee6",
   "metadata": {},
   "outputs": [
    {
     "name": "stdout",
     "output_type": "stream",
     "text": [
      "0.11393011162347078\n",
      "386\n"
     ]
    }
   ],
   "source": [
    "#demo random -from...import...\n",
    "from random import random, randint\n",
    "print(random())\n",
    "print(randint(3,1000))"
   ]
  },
  {
   "cell_type": "code",
   "execution_count": null,
   "id": "0f51eeb6-e585-48fb-af7f-a1c69a825473",
   "metadata": {},
   "outputs": [],
   "source": []
  },
  {
   "cell_type": "code",
   "execution_count": null,
   "id": "4728c819-b845-4e93-9735-25fc0f89f095",
   "metadata": {},
   "outputs": [],
   "source": []
  },
  {
   "cell_type": "code",
   "execution_count": null,
   "id": "b78978f3-4de6-4301-beb4-b23a749f8b77",
   "metadata": {},
   "outputs": [],
   "source": []
  }
 ],
 "metadata": {
  "kernelspec": {
   "display_name": "Python 3 (ipykernel)",
   "language": "python",
   "name": "python3"
  },
  "language_info": {
   "codemirror_mode": {
    "name": "ipython",
    "version": 3
   },
   "file_extension": ".py",
   "mimetype": "text/x-python",
   "name": "python",
   "nbconvert_exporter": "python",
   "pygments_lexer": "ipython3",
   "version": "3.11.5"
  }
 },
 "nbformat": 4,
 "nbformat_minor": 5
}
