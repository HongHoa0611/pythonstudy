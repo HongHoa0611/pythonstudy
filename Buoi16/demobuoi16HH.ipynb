{
 "cells": [
  {
   "cell_type": "code",
   "execution_count": 6,
   "id": "06f4b004-8215-4d5c-8f4c-593e2ab07d63",
   "metadata": {},
   "outputs": [
    {
     "name": "stdout",
     "output_type": "stream",
     "text": [
      "Giới tính: Nữ\n",
      "{'ma_mon': 'DAF', 'ten_mon': 'Phân tích Dữ liệu cơ bản'} ===> Phân tích Dữ liệu cơ bản\n",
      "Trần Văn Tèo\n",
      "{'ho_ten': 'Trần Văn Tèo', 'nam_sinh': 1999, 'gioi_tinh': False, 'danh_sach_mon_hoc': [{'ma_mon': 'PYF', 'ten_mon': 'Lập trình Python cơ bản'}, {'ma_mon': 'DAF', 'ten_mon': 'Phân tích Dữ liệu cơ bản'}], 'tai_san': 1234567.89}\n",
      "0909999999\n",
      "('ho_ten', 'Trần Văn Tèo')\n",
      "ho_ten :Trần Văn Tèo\n",
      "('nam_sinh', 1999)\n",
      "nam_sinh :1999\n",
      "('gioi_tinh', False)\n",
      "gioi_tinh :False\n",
      "('danh_sach_mon_hoc', [{'ma_mon': 'PYF', 'ten_mon': 'Lập trình Python cơ bản'}, {'ma_mon': 'DAF', 'ten_mon': 'Phân tích Dữ liệu cơ bản'}])\n",
      "danh_sach_mon_hoc :[{'ma_mon': 'PYF', 'ten_mon': 'Lập trình Python cơ bản'}, {'ma_mon': 'DAF', 'ten_mon': 'Phân tích Dữ liệu cơ bản'}]\n",
      "('tai_san', 1234567.89)\n",
      "tai_san :1234567.89\n",
      "['ho_ten', 'nam_sinh', 'gioi_tinh', 'danh_sach_mon_hoc', 'tai_san']\n",
      "dict_values(['Trần Văn Tèo', 1999, False, [{'ma_mon': 'PYF', 'ten_mon': 'Lập trình Python cơ bản'}, {'ma_mon': 'DAF', 'ten_mon': 'Phân tích Dữ liệu cơ bản'}], 1234567.89])\n"
     ]
    }
   ],
   "source": [
    "mydict = {\n",
    "    \"ho_ten\": \"Trần Văn Tèo\",\n",
    "    \"nam_sinh\": 1999,\n",
    "    \"gioi_tinh\": False,\n",
    "    \"danh_sach_mon_hoc\": [\n",
    "        {\n",
    "            \"ma_mon\": \"PYF\", \"ten_mon\":\n",
    "    \"Lập trình Python cơ bản\"\n",
    "        },\n",
    "        {\n",
    "            \"ma_mon\": \"DAF\", \"ten_mon\": \"Phân tích Dữ liệu cơ bản\"\n",
    "        }\n",
    "    ]\n",
    "}\n",
    "\n",
    "#Lấy thông tin giới tính (True: Nam, False:Nữ)\n",
    "print(\"Giới tính:\", \"Nam\" if mydict[\"gioi_tinh\"] else \"Nữ\")\n",
    "#Lấy thông tin môn học thứ 2\n",
    "print(mydict[\"danh_sach_mon_hoc\"][1], '===>', mydict[\"danh_sach_mon_hoc\"][1][\"ten_mon\"])\n",
    "#Lấy họ tên\n",
    "print(mydict[\"ho_ten\"])\n",
    "\n",
    "#thêm \"key\" tai_san\n",
    "mydict[\"tai_san\"] = 1234567.89\n",
    "print(mydict)\n",
    "\n",
    "#Lấy thông tin số điện thoại\n",
    "'''print(mydict[\"so_dien_thoai\"])''' #dùng khi \"key\" đã chắc chắn có\n",
    "print(mydict.get(\"so_dien_thoai\", \"0909999999\")) #loại bỏ chương trih2 bị treo khi ko có key trong list\n",
    "\n",
    "#Demo duyệt dict\n",
    "for item in mydict.items():\n",
    "    print(item) #trả về kiểu tuple\n",
    "    print(item[0], item[1], sep=\" :\") #gọi tuples\n",
    "\n",
    "print(list(mydict.keys())) #ép về kiểu list\n",
    "print(mydict.values())"
   ]
  },
  {
   "cell_type": "code",
   "execution_count": null,
   "id": "c98c919a-1268-49e3-9661-4d17aa0a108e",
   "metadata": {},
   "outputs": [],
   "source": [
    "'''\n",
    "Viết chương trình cho phép người dùng tìm dữ liệu của\n",
    "nhân viên bằng cách nhập id của nhân viên đó (Database\n",
    "sẽ được cho sẵn).\n",
    "'''\n",
    "employee_db = [\n",
    "    {\"id\": \"NV001\", \"name\": \"Tèo Trần\", \"gender\": True, \"salary\": 1000},\n",
    "    {\"id\": \"NV002\", \"name\": \"Ly Trần\", \"gender\": False, \"salary\": 1299},\n",
    "    {\"id\": \"NV003\", \"name\": \"David Lý\", \"gender\": True, \"salary\": 2199},\n",
    "    {\"id\": \"NV004\", \"name\": \"Leonardo\", \"gender\": True, \"salary\": 2999},\n",
    "]\n",
    "\n",
    "\n",
    "#Nhập id cần tìm\n",
    "ma_nhan_vien = input(\"nhập id cần tìm: \").strip()\n",
    "ma_nhan_vien_lower = ma_nhan_vien.lower()\n",
    "found = False\n",
    "for item in employee_db:\n",
    "    if item [\"id\"].lower() == ma_nhan_vien_lower:\n",
    "        print(\"tìm thấy:\", item)\n",
    "        found = True\n",
    "        break\n",
    "        \n",
    "#Xuất kết quả tìm kiếm\n",
    "if found == False:\n",
    "    print(f\"Tìm không thấy nhân viên có mã {ma_nhan_vien}.\")\n",
    "\n",
    "#Đếm số lượng nhân viên là Nam\n",
    "so_luong_nam = 0\n",
    "for male in employee_db:\n",
    "    if male[\"gender\"]:\n",
    "        so_luong_nam +=1\n",
    "print(\"số lượng NV nam: \", so_luong_nam)\n",
    "print(\"số lượng NV nữ: \", len(employee_db) - so_luong_nam)\n",
    "\n",
    "#Đếm số lượng nhân viên có lương >= 1500\n",
    "luong_can_dem = int(input(\"nhập số lương cần đếm: \"))\n",
    "dem = 0\n",
    "for salary in employee_db:\n",
    "    if salary[\"salary\"] >= luong_can_dem:\n",
    "        dem +=1\n",
    "print(\"số lượng NV có lương trên lương cần đếm: \", dem)\n",
    "\n",
    "#lọc nhân viên có lương>=1500\n",
    "nv_luong_lon_hon_1500 = list(filter(lambda item: item[\"salary\"] >=1500,employee_db))\n",
    "print(nv_luong_lon_hon_1500)"
   ]
  },
  {
   "cell_type": "code",
   "execution_count": null,
   "id": "9c83ccd7-d8ad-4b4f-8ae1-7299339967ea",
   "metadata": {},
   "outputs": [],
   "source": []
  },
  {
   "cell_type": "code",
   "execution_count": null,
   "id": "a900fc86-0e11-429d-a09b-1e86ba54372b",
   "metadata": {},
   "outputs": [],
   "source": []
  },
  {
   "cell_type": "code",
   "execution_count": null,
   "id": "cf9e9f52-d182-4d2d-b5de-2d229f7fb617",
   "metadata": {},
   "outputs": [],
   "source": []
  },
  {
   "cell_type": "code",
   "execution_count": 13,
   "id": "0a281793-5097-4e5e-8e33-f054a8d34aca",
   "metadata": {},
   "outputs": [
    {
     "name": "stdout",
     "output_type": "stream",
     "text": [
      "[2304, 36, 81, 441, 1]\n",
      "[48, 21]\n"
     ]
    }
   ],
   "source": [
    "'''\n",
    "Lambda: hàm ẩn danh, thường dùng chung với hàm map() và filter()\n",
    "map(hàm_xử_lý_từng_phần_tử, danh_sách): biến đổi giá trị của các phần tử trong danh sách (số lượng phần tử không đổi)\n",
    "filter(hàm_xử_lý_lọc_theo điều_kiện, danh_sách): lọc các phần tử trong danh sách (số lượng phần tử có thể đổi)\n",
    "map(), filter() chỉ làm việc trên kiểu list, tuple\n",
    "'''\n",
    "danh_sach = [48, 6, 9, 21, 1]\n",
    "square_all = list(map(lambda phan_tu: phan_tu ** 2, danh_sach)) # [48^2, 36, 81, 441, 1]\n",
    "print(square_all)\n",
    "\n",
    "more_than_15 = list(filter(lambda so: so >= 15, danh_sach))\n",
    "print(more_than_15)"
   ]
  },
  {
   "cell_type": "code",
   "execution_count": null,
   "id": "74f43d39-958d-4be2-8d43-edb2bb160f9c",
   "metadata": {},
   "outputs": [],
   "source": []
  }
 ],
 "metadata": {
  "kernelspec": {
   "display_name": "Python 3 (ipykernel)",
   "language": "python",
   "name": "python3"
  },
  "language_info": {
   "codemirror_mode": {
    "name": "ipython",
    "version": 3
   },
   "file_extension": ".py",
   "mimetype": "text/x-python",
   "name": "python",
   "nbconvert_exporter": "python",
   "pygments_lexer": "ipython3",
   "version": "3.11.5"
  }
 },
 "nbformat": 4,
 "nbformat_minor": 5
}
