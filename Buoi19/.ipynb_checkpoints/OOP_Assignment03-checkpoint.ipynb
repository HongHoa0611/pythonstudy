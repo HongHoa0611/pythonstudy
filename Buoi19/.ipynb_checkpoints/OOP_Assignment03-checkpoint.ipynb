{
 "cells": [
  {
   "cell_type": "code",
   "execution_count": null,
   "id": "a42fa0c7",
   "metadata": {},
   "outputs": [],
   "source": [
    "\"\"\"\n",
    "Tạo class có tên SoHoc gồm có các thuộc tính và phương thức sau:\n",
    "+ Thuộc tính: number1, number2\n",
    "+ Phương thức:\n",
    "- Phương thức tạo __init()__\n",
    "- print_info(): dùng để hiển thị number1, number2\n",
    "- addition(): dùng để cộng number1, number2\n",
    "- subtract(): trừ number1, number2\n",
    "- multi(): dùng để nhân number1, number2\n",
    "- division(): dùng để chia number1, number2.\n",
    "\n",
    "Sau khi tạo class, khởi tạo một object SoHoc và in ra kết quả tính toán từ các hàm thực hiện phép tính\n",
    "\"\"\""
   ]
  },
  {
   "cell_type": "code",
   "execution_count": 8,
   "id": "fcf76367-dcf3-47e2-a718-5b8353b79ad7",
   "metadata": {},
   "outputs": [
    {
     "name": "stdout",
     "output_type": "stream",
     "text": [
      "number1: 60, number2: 1\n",
      "61\n",
      "59\n",
      "60\n",
      "60.0\n",
      "number1: 0, number2: 1\n",
      "1\n",
      "-1\n",
      "0\n",
      "0.0\n"
     ]
    }
   ],
   "source": [
    "class SoHoc:\n",
    "    number1 = 0\n",
    "    number2 = 1 #vì có chia\n",
    "    def __init__(self, no1, no2):\n",
    "        self.number1 = no1\n",
    "        self.number1 = no2\n",
    "    def __str__(self):\n",
    "        return f'number1: {self.number1}, number2: {self.number2}'\n",
    "    def addition(self):\n",
    "        return self.number1 + self.number2\n",
    "    def subtract(self):\n",
    "        return self.number1 - self.number2\n",
    "    def multi(self):\n",
    "        return self.number1 * self.number2\n",
    "    def division(self):\n",
    "        if self.number2 == 0:\n",
    "            print(\"Can't divide by zero\")\n",
    "            return None\n",
    "        else:\n",
    "            return self.number1 / self.number2\n",
    "    \n",
    "#demo\n",
    "A = SoHoc(45,60)\n",
    "B = SoHoc(19,0)\n",
    "print(A)\n",
    "print(A.addition())\n",
    "print(A.subtract())\n",
    "print(A.multi())\n",
    "print(A.division())\n",
    "\n",
    "print(B)\n",
    "print(B.addition())\n",
    "print(B.subtract())\n",
    "print(B.multi())\n",
    "print(B.division())"
   ]
  },
  {
   "cell_type": "code",
   "execution_count": null,
   "id": "3c162c46-d542-420b-963f-085d5e09ecb9",
   "metadata": {},
   "outputs": [],
   "source": []
  },
  {
   "cell_type": "code",
   "execution_count": null,
   "id": "54a6479d-e30c-4f82-b41c-2d6a192900fb",
   "metadata": {},
   "outputs": [],
   "source": []
  },
  {
   "cell_type": "code",
   "execution_count": null,
   "id": "920680ef-fc46-4a84-87d2-20208508a1d6",
   "metadata": {},
   "outputs": [],
   "source": []
  },
  {
   "cell_type": "code",
   "execution_count": null,
   "id": "4a3de583-dcc0-413c-9203-d4268136bffa",
   "metadata": {},
   "outputs": [],
   "source": []
  },
  {
   "cell_type": "code",
   "execution_count": null,
   "id": "cf597a65-9d2e-4a0f-b75f-66b972f5d810",
   "metadata": {},
   "outputs": [],
   "source": []
  },
  {
   "cell_type": "code",
   "execution_count": null,
   "id": "c6145cdf-4592-4fc2-8f8d-962e90688423",
   "metadata": {},
   "outputs": [],
   "source": []
  },
  {
   "cell_type": "code",
   "execution_count": null,
   "id": "e5b4faf2-76b4-4b8c-bf16-ea9872ce56f7",
   "metadata": {},
   "outputs": [],
   "source": []
  },
  {
   "cell_type": "code",
   "execution_count": null,
   "id": "eea9e283-aa45-4b11-98fa-5894c22cbed2",
   "metadata": {},
   "outputs": [],
   "source": []
  }
 ],
 "metadata": {
  "kernelspec": {
   "display_name": "Python 3 (ipykernel)",
   "language": "python",
   "name": "python3"
  },
  "language_info": {
   "codemirror_mode": {
    "name": "ipython",
    "version": 3
   },
   "file_extension": ".py",
   "mimetype": "text/x-python",
   "name": "python",
   "nbconvert_exporter": "python",
   "pygments_lexer": "ipython3",
   "version": "3.11.5"
  }
 },
 "nbformat": 4,
 "nbformat_minor": 5
}
