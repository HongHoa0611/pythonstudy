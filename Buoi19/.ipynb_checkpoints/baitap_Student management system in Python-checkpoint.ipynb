{
 "cells": [
  {
   "cell_type": "markdown",
   "id": "5578f8b4-fef2-4cfe-9fd4-3a4aee73974e",
   "metadata": {},
   "source": [
    "Xây dựng lớp Student với các thuộc tính như mã sinh viên, họ tên, ngày tháng năm sinh, quê quán, chuyên ngành, lớp…Chức năng chính của lớp này là lưu giữ thông tin của 1 sinh viên\r",
    "\r",
    "Xây dựng lớp danh mục sinh viên (Student_List) với thuộc tính là một List các đối tượng của lớp Student vừa xây dựng ở trên. Lớp này có các hàm thành viên tương ứng với các chức năng như đề bài yêu cầu. Mỗi hàm chức năng đều thao tác trên thuộc tính List sinh viên của lớp này.\r",
    "Xây dựng ứng dụng quản lý sinh viên với các chức năng cơ bản sau:\r",
    "- Xem danh mục sinh viên\r",
    "- Thêm sinh viên mới vào danh mục\r",
    "- Cập nhật thông tin của sinh viên trong danh mục\r",
    "- Xóa thông tin sinh viên khỏi danh mục\r",
    "- Tìm kiếm thông tin sinh viên trong danh mục theo từ khóa\r",
    "- Sắp xếp thông tin sinh viên trong danh mục"
   ]
  },
  {
   "cell_type": "code",
   "execution_count": 35,
   "id": "424f2614-3087-40b9-b14d-fa7f0cb9eb93",
   "metadata": {},
   "outputs": [
    {
     "name": "stdout",
     "output_type": "stream",
     "text": [
      " mã sinh viên:   102, họ tên: Lê Văn Tèo           , ngày tháng năm sinh: 15.12.2003, quê quán: Hà Nội         , chuyên ngành: CNSH      , lớp: CNS12\n",
      " mã sinh viên:   101, họ tên: Lê Văn A             , ngày tháng năm sinh: 15.10.2003, quê quán: Phú Quốc       , chuyên ngành: CNTT      , lớp: CNT12\n",
      " mã sinh viên:   104, họ tên: Hoàng Văn Tí         , ngày tháng năm sinh: 15.12.2001, quê quán: TP.HCM         , chuyên ngành: HH        , lớp: HH12\n",
      "sau khi xóa:\n",
      " mã sinh viên:   102, họ tên: Lê Văn Tèo           , ngày tháng năm sinh: 15.12.2003, quê quán: Hà Nội         , chuyên ngành: CNSH      , lớp: CNS12\n",
      " mã sinh viên:   104, họ tên: Hoàng Văn Tí         , ngày tháng năm sinh: 15.12.2001, quê quán: TP.HCM         , chuyên ngành: HH        , lớp: HH12\n",
      "tìm không thấy SV có mã để xóa\n"
     ]
    }
   ],
   "source": [
    "class Student:\n",
    "    id = None\n",
    "    full_name = None\n",
    "    birth = None\n",
    "    home_town = None\n",
    "    major = None\n",
    "    class_name = None\n",
    "\n",
    "    def __init__(self, id, fullname, birth, hometown, major, classname):\n",
    "        self.id = id\n",
    "        self.full_name = fullname\n",
    "        self.birth = birth\n",
    "        self.home_town = hometown\n",
    "        self.major = major\n",
    "        self.class_name = classname\n",
    "\n",
    "    def __str__(self):\n",
    "        return f' mã sinh viên: {self.id:5}, họ tên: {self.full_name:20} , ngày tháng năm sinh: {self.birth}, quê quán: {self.home_town:15}, chuyên ngành: {self.major:10}, lớp: {self.class_name}'\n",
    "\n",
    "class Student_List:\n",
    "    def __init__(self, student_list = []):\n",
    "            self.student_list = student_list \n",
    "\n",
    "#Xem danh mục sinh viên\n",
    "    def display(self):\n",
    "        for student in self.student_list:\n",
    "            print(student)\n",
    "        \n",
    "#Thêm sinh viên mới vào danh mục\n",
    "    def add_student(self, student):\n",
    "        self.student_list.append(student)\n",
    "\n",
    "        \n",
    "#Tìm kiếm thông tin sinh viên trong danh mục theo từ khóa\n",
    "    def search(self, keyword):\n",
    "        results = list(filter(lambda student: student.id == keyword, self.student_list))\n",
    "        return results[0] if len(results) > 0 else None\n",
    "\n",
    "#Cập nhật thông tin của sinh viên trong danh mục\n",
    "    def update_student(self, student):\n",
    "        pass\n",
    "        \n",
    "#Xóa thông tin sinh viên khỏi danh mục\n",
    "    def delete_student(self, keyword):\n",
    "        found_student = self.search(keyword)\n",
    "        if found_student:\n",
    "            self.student_list.remove(found_student)\n",
    "            print(\"sau khi xóa:\")\n",
    "            self.display()\n",
    "        else:\n",
    "            print(\"tìm không thấy SV có mã để xóa\")\n",
    "#Sắp xếp thông tin sinh viên trong danh mục\n",
    "    def sort(self):\n",
    "        pass\n",
    "#Demo\n",
    "sv1 = Student(101, 'Lê Văn A', '15.10.2003', 'Phú Quốc', 'CNTT', 'CNT12')\n",
    "sv2 = Student(102, 'Lê Văn Tèo', '15.12.2003', 'Hà Nội', 'CNSH', 'CNS12')\n",
    "sv3 = Student(104, 'Hoàng Văn Tí', '15.12.2001', 'TP.HCM', 'HH', 'HH12')\n",
    "\n",
    "sl = Student_List([sv2])\n",
    "sl.add_student(sv1)\n",
    "sl.add_student(sv3)\n",
    "sl.display()\n",
    "sl.sort()\n",
    "sl.search(101)\n",
    "sl.delete_student(101)\n",
    "sl.search('CNHH')\n",
    "sl.delete_student('CNHH')\n"
   ]
  }
 ],
 "metadata": {
  "kernelspec": {
   "display_name": "Python 3 (ipykernel)",
   "language": "python",
   "name": "python3"
  },
  "language_info": {
   "codemirror_mode": {
    "name": "ipython",
    "version": 3
   },
   "file_extension": ".py",
   "mimetype": "text/x-python",
   "name": "python",
   "nbconvert_exporter": "python",
   "pygments_lexer": "ipython3",
   "version": "3.11.5"
  }
 },
 "nbformat": 4,
 "nbformat_minor": 5
}
