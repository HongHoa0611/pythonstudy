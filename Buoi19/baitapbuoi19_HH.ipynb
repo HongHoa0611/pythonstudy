{
 "cells": [
  {
   "cell_type": "markdown",
   "id": "95ccc127-8501-4cbc-b755-b69b2a89719e",
   "metadata": {},
   "source": [
    "Viết lớp diem để biểu diễn thông tin điểm trong mặt OXY và các hàm khai thác thông tin đó:\n",
    "* dich_chuyen(dx,dy)\n",
    "* khoang_cach_tu_0()\n",
    "* khoang_cach_toi_diem(other)\n",
    "* __init()__\n",
    "* __str()__"
   ]
  },
  {
   "cell_type": "code",
   "execution_count": 14,
   "id": "c7bb85d5-d5e1-49e9-8c6a-1f912e2b44a9",
   "metadata": {},
   "outputs": [
    {
     "name": "stdout",
     "output_type": "stream",
     "text": [
      "P(1,4)\n",
      "Q(11,-9)\n",
      "16.401219466856727\n"
     ]
    }
   ],
   "source": [
    "from math import sqrt\n",
    "class Diem:\n",
    "    x:int = 0\n",
    "    y:int = 0\n",
    "    label: str = \"\"\n",
    "\n",
    "    def __init__(self,label,x,y):\n",
    "        self.x = x\n",
    "        self.y = y\n",
    "        self.label = label\n",
    "        \n",
    "    def __str__(self):\n",
    "        return f\"{self.label}({self.x},{self.y})\"\n",
    "        \n",
    "    def dich_chuyen(self,dx,dy):\n",
    "        self.x = x + dx\n",
    "        self.y = y + dy\n",
    "    def khoang_cach_toi_diem(self, other):\n",
    "        delta_x = self.x - other.x\n",
    "        delta_y = self.y - other.y\n",
    "        return sqrt(delta_x**2 + delta_y**2)\n",
    "#demo\n",
    "A = Diem(\"P\",1,4)\n",
    "print(A)\n",
    "B = Diem(\"Q\", 11, -9)\n",
    "print(B)\n",
    "print(B.khoang_cach_toi_diem(A))"
   ]
  },
  {
   "cell_type": "code",
   "execution_count": 13,
   "id": "02a07f7b-68e5-4db2-b966-cb945bb4cf9b",
   "metadata": {},
   "outputs": [
    {
     "ename": "TypeError",
     "evalue": "Diem() takes no arguments",
     "output_type": "error",
     "traceback": [
      "\u001b[1;31m---------------------------------------------------------------------------\u001b[0m",
      "\u001b[1;31mTypeError\u001b[0m                                 Traceback (most recent call last)",
      "Cell \u001b[1;32mIn[13], line 27\u001b[0m\n\u001b[0;32m     23\u001b[0m         \u001b[38;5;28;01mreturn\u001b[39;00m sqrt(delta_x2 \u001b[38;5;241m+\u001b[39m delta_y2)\n\u001b[0;32m     26\u001b[0m \u001b[38;5;66;03m#Demo\u001b[39;00m\n\u001b[1;32m---> 27\u001b[0m A \u001b[38;5;241m=\u001b[39m \u001b[43mDiem\u001b[49m\u001b[43m(\u001b[49m\u001b[38;5;124;43m\"\u001b[39;49m\u001b[38;5;124;43mP\u001b[39;49m\u001b[38;5;124;43m\"\u001b[39;49m\u001b[43m,\u001b[49m\u001b[43m \u001b[49m\u001b[38;5;241;43m11\u001b[39;49m\u001b[43m,\u001b[49m\u001b[43m \u001b[49m\u001b[38;5;241;43m4\u001b[39;49m\u001b[43m)\u001b[49m\n\u001b[0;32m     28\u001b[0m \u001b[38;5;28mprint\u001b[39m(A)\n\u001b[0;32m     29\u001b[0m B \u001b[38;5;241m=\u001b[39m Diem(\u001b[38;5;124m\"\u001b[39m\u001b[38;5;124mQ\u001b[39m\u001b[38;5;124m\"\u001b[39m, \u001b[38;5;241m11\u001b[39m, \u001b[38;5;241m-\u001b[39m\u001b[38;5;241m9\u001b[39m)\n",
      "\u001b[1;31mTypeError\u001b[0m: Diem() takes no arguments"
     ]
    }
   ],
   "source": [
    "from math import sqrt\n",
    "class Diem:\n",
    "# Khai báo thuộc tính (ko bắt buộc)\n",
    "    x : int = 0\n",
    "    y : int = 0\n",
    "    label: str = \"\"\n",
    "\n",
    "    def __init__(self, label, x, y):\n",
    "        self.x = x\n",
    "        self.y = y\n",
    "        self.label = label\n",
    "\n",
    "    def __str__(self):\n",
    "        return f\"{self.label}({self.x}, {self.y})\"\n",
    "\n",
    "    def dich_chuyen(self, dx, dy):\n",
    "        self.x += dx\n",
    "        self.y += dy\n",
    "\n",
    "    def khoang_cach_toi_diem(self, other):\n",
    "        delta_x = self.x - other.x\n",
    "        delta_y = self.y - other.y\n",
    "        return sqrt(delta_x2 + delta_y2)\n",
    "\n",
    "\n",
    "#Demo\n",
    "A = Diem(\"P\", 11, 4)\n",
    "print(A)\n",
    "B = Diem(\"Q\", 11, -9)\n",
    "print(B)\n",
    "print(B.khoang_cach_toi_diem(A))"
   ]
  },
  {
   "cell_type": "code",
   "execution_count": 29,
   "id": "2771dad9-a8fb-4a2f-b348-97d7eae6e95e",
   "metadata": {},
   "outputs": [
    {
     "name": "stdout",
     "output_type": "stream",
     "text": [
      "3/4\n",
      "3/4\n",
      "3/2\n"
     ]
    }
   ],
   "source": [
    "#Định nghĩa lớp phân số gồm tử, mẫu số nguyên\n",
    "from math import gcd\n",
    "class PhanSo:\n",
    "    tu_so = 1\n",
    "    mau_so = 1\n",
    "\n",
    "    def __init__(self, tu, mau):\n",
    "        self.tu_so = tu\n",
    "        self.mau_so = mau\n",
    "    def __str__(self):\n",
    "        return f\"{self.tu_so}/{self.mau_so}\"\n",
    "\n",
    "    #rút gọn phân số #hàm ước chung lớn nhất là gcd\n",
    "    def rut_gon(self):\n",
    "        ucln = gcd(self.tu_so, self.mau_so) #ucln =ước chung lớn nhất\n",
    "        self.tu_so = int(self.tu_so/ucln)\n",
    "        self.mau_so = int(self.mau_so/ucln)\n",
    "\n",
    "    def __add__(self,other): #hàm cộng__add__ hàm trừ__sub__\n",
    "        tu_so_moi = self.tu_so * other.mau_so + self.mau_so * other.tu_so\n",
    "        mau_so_moi = self.mau_so * other.mau_so\n",
    "        ket_qua = PhanSo(tu_so_moi, mau_so_moi)\n",
    "        ket_qua.rut_gon()\n",
    "        return ket_qua\n",
    "\n",
    "    def __mul__(self,other):\n",
    "        pass\n",
    "ps1 = PhanSo(3,4)\n",
    "print(ps1)\n",
    "ps2 = PhanSo(6,8)\n",
    "ps2.rut_gon()\n",
    "print(ps2)\n",
    "print(ps1 + ps2)"
   ]
  },
  {
   "cell_type": "code",
   "execution_count": 34,
   "id": "dfb4d481-2ef7-4be8-9b84-d312022e9f10",
   "metadata": {},
   "outputs": [
    {
     "name": "stdout",
     "output_type": "stream",
     "text": [
      "Z(1.1, 0, 9)\n",
      "Z(1.1, 0, 9)\n"
     ]
    }
   ],
   "source": [
    "class Diem3D(Diem):\n",
    "    x = 0\n",
    "\n",
    "    def __init__(self,label,x,y,z):\n",
    "        Diem.__init__(self,label,x,y)\n",
    "        self.z = z\n",
    "    def __str__(self):\n",
    "        return f\"{self.label}({self.x}, {self.y}, {self.z})\"\n",
    "        \n",
    "C = Diem3D(\"Z\", 1.1, 0,9)\n",
    "print(C)\n",
    "print(C.__str__())"
   ]
  }
 ],
 "metadata": {
  "kernelspec": {
   "display_name": "Python 3 (ipykernel)",
   "language": "python",
   "name": "python3"
  },
  "language_info": {
   "codemirror_mode": {
    "name": "ipython",
    "version": 3
   },
   "file_extension": ".py",
   "mimetype": "text/x-python",
   "name": "python",
   "nbconvert_exporter": "python",
   "pygments_lexer": "ipython3",
   "version": "3.11.5"
  }
 },
 "nbformat": 4,
 "nbformat_minor": 5
}
