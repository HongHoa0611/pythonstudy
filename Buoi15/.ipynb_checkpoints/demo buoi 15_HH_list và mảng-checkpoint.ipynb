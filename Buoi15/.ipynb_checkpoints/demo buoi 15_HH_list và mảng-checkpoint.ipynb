{
 "cells": [
  {
   "cell_type": "code",
   "execution_count": 2,
   "id": "349caf4e-cc20-43f0-94b6-4571b708f765",
   "metadata": {},
   "outputs": [
    {
     "name": "stdout",
     "output_type": "stream",
     "text": [
      "['Anh', 'Phúc', 'Hoa', 199, 1991.9, False]\n",
      "Có 6 ban\n",
      "199\n",
      "Anh\n",
      "Phúc\n",
      "Hoa\n",
      "199\n",
      "1991.9\n",
      "False\n",
      "['Anh', 'Phúc', 'Hoa', 199, 1991.9, False, 'Đỗ']\n",
      "sau khi xóa\" ['Anh', 'Phúc', 'Hoa', 1991.9, False, 'Đỗ']\n",
      "sau khi xóa: ['Anh', 'Phúc', 'Hoa', False, 'Đỗ']\n"
     ]
    }
   ],
   "source": [
    "danh_sach_lop = [\"Anh\", \"Phúc\", \"Hoa\", 199, 1991.9, False]\n",
    "print(danh_sach_lop)\n",
    "print('Có', len(danh_sach_lop), 'ban')\n",
    "\n",
    "print(danh_sach_lop[3])\n",
    "\n",
    "for phan_tu in danh_sach_lop:\n",
    "    print(phan_tu)\n",
    "\n",
    "#Thêm phần tử vào list\n",
    "danh_sach_lop.append(\"Đỗ\")\n",
    "print(danh_sach_lop)\n",
    "\n",
    "#Xóa phần tử thứ 3\n",
    "del danh_sach_lop [3]\n",
    "print('sau khi xóa\"', danh_sach_lop)\n",
    "\n",
    "#Xóa phần tử thứ 3\n",
    "danh_sach_lop.pop(3) #giống lệnh del\n",
    "print('sau khi xóa:', danh_sach_lop)"
   ]
  },
  {
   "cell_type": "code",
   "execution_count": 2,
   "id": "bb0c52ff-b223-43bc-b444-d65cdcbc42fe",
   "metadata": {},
   "outputs": [
    {
     "name": "stdout",
     "output_type": "stream",
     "text": [
      "[1, 2, 3, 4, 5, 6]\n",
      "[1, 2, 3]\n",
      "None\n",
      "[1, 2, 3, 4, 5, 6]\n",
      "[4, 8, 5, 6]\n"
     ]
    }
   ],
   "source": [
    "#các hàm liên quan tới list\n",
    "''' Thêm:\n",
    "    list_1.append(x): Thêm vào cuối ==> trả về none\n",
    "    list_1.extend(list_2): Thêm các phần tử mảng list_2 và cuối mảng list_2 ==> trả về none\n",
    "    list_1 + list_2: cộng/nối 2 list ==> trả về list\n",
    "    list_1.insert(vị_trí_chèn, giá_trị)\n",
    "'''\n",
    "l1 = [1,2,3]\n",
    "l2 = [4,5,6]\n",
    "print(l1 + l2)\n",
    "print(l1)\n",
    "print(l1.extend(l2))\n",
    "print(l1) #hàm extent đã thêm vào chuỗi l1\n",
    "l2.insert(1,8) #chèn vào vị trí [1] của l2 giá trị 8\n",
    "print(l2)\n"
   ]
  },
  {
   "cell_type": "code",
   "execution_count": 6,
   "id": "85b546d9-a596-4347-a5ae-35c16fe61d77",
   "metadata": {},
   "outputs": [
    {
     "name": "stdout",
     "output_type": "stream",
     "text": [
      "['python', 'R', 'SQL', 'C#', 'C++', 'Java', 'Go']\n",
      "['python', 'R', 'C++', 'Java', 'Go']\n",
      "['python', 'R', 'C++', 'Go']\n",
      "['python', 'R', 'C++']\n",
      "[]\n"
     ]
    }
   ],
   "source": [
    "#xóa phần tử trong list\n",
    "'''Xóa:\n",
    "    - dùng câu lệnh del: cú pháp:\n",
    "        del <phần_tử>\n",
    "        del <mảng_các_phần_tử>\n",
    "    - dùng hàm remove()\n",
    "        list_1.remove(gia_tri_remove) #giá trị remove: phải tồn tại trong list\n",
    "    - Remove tất cả phần tử:\n",
    "        list_1.clear() #sau khi chay list_1 = []\n",
    "    -Xóa phần tử cuối\n",
    "        list_1.pop() #trả về giá trị phần tử xóa\n",
    "'''\n",
    "\n",
    "ngon_ngu_lap_trinh  = ['python', 'Power BI', 'R', 'SQL', 'C#', 'C++', 'Java', 'Go']\n",
    "del ngon_ngu_lap_trinh[1] #remove 'Power BI'\n",
    "print(ngon_ngu_lap_trinh)\n",
    "del ngon_ngu_lap_trinh [2:4] #remove 'SQL', 'C#'\n",
    "print(ngon_ngu_lap_trinh)\n",
    "'''del ngon_ngu_lap_trinh\n",
    "print(ngon_ngu_lap_trinh) #vì delete biến luôn nên ko còn ngon_ngu_lap_trinh nữa'''\n",
    "\n",
    "ngon_ngu_lap_trinh.remove('Java')\n",
    "print(ngon_ngu_lap_trinh)\n",
    "ngon_ngu_lap_trinh.pop()\n",
    "print(ngon_ngu_lap_trinh)\n",
    "ngon_ngu_lap_trinh.clear()\n",
    "print(ngon_ngu_lap_trinh)"
   ]
  },
  {
   "cell_type": "code",
   "execution_count": 8,
   "id": "25955d0e-3e6b-4f5b-a149-ea58f8cff63b",
   "metadata": {},
   "outputs": [
    {
     "name": "stdout",
     "output_type": "stream",
     "text": [
      "[1, 2, 3]\n",
      "[1, 9, 16] [1, 9, 16]\n",
      "[4, 5, 6] [4, 999, 6]\n"
     ]
    }
   ],
   "source": [
    "'''demo .copy(), .clone()\n",
    "'''\n",
    "a = [1,2,3]\n",
    "b = [4,5,6]\n",
    "c = a #lệnh này là hai phần tử a, c cùng chỏ tới 1 mảng\n",
    "print(c)\n",
    "c[1] = 9\n",
    "a[2] = 16\n",
    "print (a,c)\n",
    "\n",
    "d = b.copy() #tạo mảng mới và copy giá trị qua\n",
    "d[1] = 999\n",
    "print(b,d)"
   ]
  },
  {
   "cell_type": "code",
   "execution_count": 10,
   "id": "4ba86e4a-138a-4a66-8062-f010282aae4f",
   "metadata": {},
   "outputs": [
    {
     "name": "stdout",
     "output_type": "stream",
     "text": [
      "Đà Nẵng\n",
      "['Sài Gòn', 'Đà Nẵng', 'Hà Nội']\n",
      "['Sài Gòn', 'Quy Nhơn', 'Hà Nội']\n",
      "('Sài Gòn', 'Quy Nhơn', 'Hà Nội')\n"
     ]
    }
   ],
   "source": [
    "#DEMO TUPES\n",
    "bo_ba = ('Sài Gòn', 'Đà Nẵng', 'Hà Nội')\n",
    "print(bo_ba[1])\n",
    "'''bo_ba[1] = 'Quy Nhơn' #sai do tuple ko cho thay đổi giá trị phần tử'''\n",
    "bo_ba_new = list(bo_ba) #ép kiểu về kiểu list\n",
    "print(bo_ba_new)\n",
    "bo_ba_new[1] = 'Quy Nhơn'\n",
    "print(bo_ba_new)\n",
    "bo_ba = tuple(bo_ba_new)\n",
    "print(bo_ba) \n",
    "#? ưu điểm của tuple = xét thành phần trong tuple nhanh hơn list\n"
   ]
  },
  {
   "cell_type": "code",
   "execution_count": 11,
   "id": "66acfe01-c0f8-469b-9ef2-ab9a9729ae4a",
   "metadata": {},
   "outputs": [
    {
     "name": "stdout",
     "output_type": "stream",
     "text": [
      "[5, 7]\n",
      "[5, 9, 4]\n"
     ]
    }
   ],
   "source": [
    "'''silicing [start:end]'''\n",
    "arr = [1,3,5,7,9,2,4,6,8]\n",
    "print(arr[2:4]) #5,7\n",
    "print(arr[2:8:2]) #5,9 # Lst[Initial : End: IndexJump]"
   ]
  },
  {
   "cell_type": "code",
   "execution_count": null,
   "id": "c385f448-58cd-4811-9f52-28b500acfb3d",
   "metadata": {},
   "outputs": [],
   "source": []
  },
  {
   "cell_type": "code",
   "execution_count": null,
   "id": "84d101cd-0b41-415e-be7c-cd08473e968e",
   "metadata": {},
   "outputs": [],
   "source": [
    "#hàm count = đếm QUAN TRỌNG"
   ]
  }
 ],
 "metadata": {
  "kernelspec": {
   "display_name": "Python 3 (ipykernel)",
   "language": "python",
   "name": "python3"
  },
  "language_info": {
   "codemirror_mode": {
    "name": "ipython",
    "version": 3
   },
   "file_extension": ".py",
   "mimetype": "text/x-python",
   "name": "python",
   "nbconvert_exporter": "python",
   "pygments_lexer": "ipython3",
   "version": "3.11.5"
  }
 },
 "nbformat": 4,
 "nbformat_minor": 5
}
